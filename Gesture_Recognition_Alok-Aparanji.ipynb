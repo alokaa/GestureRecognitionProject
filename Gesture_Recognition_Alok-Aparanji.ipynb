{
 "cells": [
  {
   "cell_type": "markdown",
   "metadata": {},
   "source": [
    "# Gesture Recognition\n",
    "In this group project, you are going to build a 3D Conv model that will be able to predict the 5 gestures correctly. Please import the following libraries to get started. Once you have completed the code you can download the notebook for making a submission."
   ]
  },
  {
   "cell_type": "code",
   "execution_count": 1,
   "metadata": {},
   "outputs": [],
   "source": [
    "import numpy as np\n",
    "import os\n",
    "from imageio import imread\n",
    "from skimage.transform import resize\n",
    "import datetime\n",
    "import os"
   ]
  },
  {
   "cell_type": "markdown",
   "metadata": {},
   "source": [
    "We set the random seed so that the results don't vary drastically."
   ]
  },
  {
   "cell_type": "code",
   "execution_count": 2,
   "metadata": {},
   "outputs": [],
   "source": [
    "np.random.seed(30)\n",
    "import random as rn\n",
    "rn.seed(30)\n",
    "from tensorflow import keras\n",
    "import tensorflow as tf\n",
    "tf.random.set_seed(30)"
   ]
  },
  {
   "cell_type": "markdown",
   "metadata": {},
   "source": [
    "In this block, you read the folder names for training and validation. You also set the `batch_size` here. Note that you set the batch size in such a way that you are able to use the GPU in full capacity. You keep increasing the batch size until the machine throws an error."
   ]
  },
  {
   "cell_type": "markdown",
   "metadata": {},
   "source": [
    "**data path: /home/datasets/Project_data**"
   ]
  },
  {
   "cell_type": "code",
   "execution_count": 3,
   "metadata": {},
   "outputs": [
    {
     "name": "stdout",
     "output_type": "stream",
     "text": [
      "Training data size = 663 and Validation data size = 100\n"
     ]
    }
   ],
   "source": [
    "train_doc = np.random.permutation(open('/home/datasets/Project_data/train.csv').readlines())\n",
    "val_doc = np.random.permutation(open('/home/datasets/Project_data/val.csv').readlines())\n",
    "batch_size = 32\n",
    "print(f'Training data size = {len(train_doc)} and Validation data size = {len(val_doc)}')"
   ]
  },
  {
   "cell_type": "markdown",
   "metadata": {},
   "source": [
    "## Generator\n",
    "This is one of the most important part of the code. The overall structure of the generator has been given. In the generator, you are going to preprocess the images as you have images of 2 different dimensions as well as create a batch of video frames. You have to experiment with `img_idx`, `y`,`z` and normalization such that you get high accuracy."
   ]
  },
  {
   "cell_type": "code",
   "execution_count": 4,
   "metadata": {},
   "outputs": [],
   "source": [
    "img_size = (100,100)\n",
    "def processImage(image, img_size=(64,64)):\n",
    "    return resize(image, img_size, anti_aliasing=True)"
   ]
  },
  {
   "cell_type": "markdown",
   "metadata": {},
   "source": [
    "In the below generator:\n",
    "1. I am using all images (after trying out the reduced set).\n",
    "2. All images are resized to 100x100\n",
    "3. The last partial batch is handled with a condition and code is not repeated."
   ]
  },
  {
   "cell_type": "code",
   "execution_count": 5,
   "metadata": {},
   "outputs": [],
   "source": [
    "#img_idx = [0,1,2,3,4,6,8,10,12,14,16,18,20,22,24,25,26,27,28,29]\n",
    "img_idx = [i for i in range(30)]\n",
    "\n",
    "def generator(source_path, folder_list, batch_size):\n",
    "    print( 'Source path = ', source_path, '; batch size =', batch_size)\n",
    "    x = len(img_idx)\n",
    "    while True:\n",
    "        t = np.random.permutation(folder_list)\n",
    "        if len(t) % batch_size > 0:\n",
    "            num_batches = int(len(t) / batch_size) + 1\n",
    "        else:\n",
    "            num_batches = int(len(t) / batch_size)\n",
    "        y = img_size[0]\n",
    "        z = img_size[1]\n",
    "        for batch in range(num_batches): # we iterate over the number of batches\n",
    "            current_batch_size = batch_size\n",
    "            if batch == num_batches-1:\n",
    "                current_batch_size = len(t) - batch*batch_size\n",
    "            batch_data = np.zeros((current_batch_size,x,y,z,3)) # x is the number of images you use for each video, (y,z) is the final size of the input images and 3 is the number of channels RGB\n",
    "            batch_labels = np.zeros((current_batch_size,5)) # batch_labels is the one hot representation of the output\n",
    "            for folder in range(current_batch_size): # iterate over the current_batch_size\n",
    "                imgs = os.listdir(source_path+'/'+ t[folder + (batch*current_batch_size)].split(';')[0]) # read all the images in the folder\n",
    "                for idx,item in enumerate(img_idx): #  Iterate iver the frames/images of a folder to read them in\n",
    "                    image = imread(source_path+'/'+ t[folder + (batch*current_batch_size)].strip().split(';')[0]+'/'+imgs[item]).astype(np.float32)\n",
    "                    \n",
    "                    #crop the images and resize them. Note that the images are of 2 different shape \n",
    "                    #and the conv3D will throw error if the inputs in a batch have different shapes\n",
    "                    \n",
    "                    batch_data[folder,idx,:,:,0] = processImage(image[:,:,0], img_size=img_size)\n",
    "                    batch_data[folder,idx,:,:,1] = processImage(image[:,:,1], img_size=img_size)\n",
    "                    batch_data[folder,idx,:,:,2] = processImage(image[:,:,2], img_size=img_size)\n",
    "                    \n",
    "                batch_labels[folder, int(t[folder + (batch*current_batch_size)].strip().split(';')[2])] = 1\n",
    "            yield batch_data, batch_labels #you yield the batch_data and the batch_labels, remember what does yield do"
   ]
  },
  {
   "cell_type": "markdown",
   "metadata": {},
   "source": [
    "Note here that a video is represented above in the generator as (number of images, height, width, number of channels). Take this into consideration while creating the model architecture."
   ]
  },
  {
   "cell_type": "code",
   "execution_count": 6,
   "metadata": {},
   "outputs": [
    {
     "name": "stdout",
     "output_type": "stream",
     "text": [
      "# training sequences = 663\n",
      "# validation sequences = 100\n",
      "# epochs = 10\n"
     ]
    }
   ],
   "source": [
    "curr_dt_time = datetime.datetime.now()\n",
    "train_path = '/home/datasets/Project_data/train'\n",
    "val_path = '/home/datasets/Project_data/val'\n",
    "num_train_sequences = len(train_doc)\n",
    "print('# training sequences =', num_train_sequences)\n",
    "num_val_sequences = len(val_doc)\n",
    "print('# validation sequences =', num_val_sequences)\n",
    "num_epochs = 10# choose the number of epochs\n",
    "print ('# epochs =', num_epochs)"
   ]
  },
  {
   "cell_type": "markdown",
   "metadata": {},
   "source": [
    "## Model\n",
    "Here you make the model using different functionalities that Keras provides. Remember to use `Conv3D` and `MaxPooling3D` and not `Conv2D` and `Maxpooling2D` for a 3D convolution model. You would want to use `TimeDistributed` while building a Conv2D + RNN model. Also remember that the last layer is the softmax. Design the network in such a way that the model is able to give good accuracy on the least number of parameters so that it can fit in the memory of the webcam."
   ]
  },
  {
   "cell_type": "markdown",
   "metadata": {},
   "source": [
    "#### Model 1: Initial Model"
   ]
  },
  {
   "cell_type": "code",
   "execution_count": 7,
   "metadata": {},
   "outputs": [
    {
     "name": "stdout",
     "output_type": "stream",
     "text": [
      "Model: \"sequential\"\n",
      "_________________________________________________________________\n",
      " Layer (type)                Output Shape              Param #   \n",
      "=================================================================\n",
      " conv3d (Conv3D)             (None, 28, 98, 98, 16)    1312      \n",
      "                                                                 \n",
      " max_pooling3d (MaxPooling3D  (None, 14, 49, 49, 16)   0         \n",
      " )                                                               \n",
      "                                                                 \n",
      " conv3d_1 (Conv3D)           (None, 12, 47, 47, 32)    13856     \n",
      "                                                                 \n",
      " max_pooling3d_1 (MaxPooling  (None, 6, 23, 23, 32)    0         \n",
      " 3D)                                                             \n",
      "                                                                 \n",
      " flatten (Flatten)           (None, 101568)            0         \n",
      "                                                                 \n",
      " dense (Dense)               (None, 64)                6500416   \n",
      "                                                                 \n",
      " dense_1 (Dense)             (None, 5)                 325       \n",
      "                                                                 \n",
      "=================================================================\n",
      "Total params: 6,515,909\n",
      "Trainable params: 6,515,909\n",
      "Non-trainable params: 0\n",
      "_________________________________________________________________\n"
     ]
    },
    {
     "name": "stderr",
     "output_type": "stream",
     "text": [
      "2024-09-03 11:04:46.845531: W tensorflow/core/common_runtime/gpu/gpu_bfc_allocator.cc:39] Overriding allow_growth setting because the TF_FORCE_GPU_ALLOW_GROWTH environment variable is set. Original config value was 0.\n",
      "2024-09-03 11:04:46.845597: I tensorflow/core/common_runtime/gpu/gpu_device.cc:1525] Created device /job:localhost/replica:0/task:0/device:GPU:0 with 14800 MB memory:  -> device: 0, name: Quadro RTX 5000, pci bus id: 0000:3d:00.0, compute capability: 7.5\n"
     ]
    }
   ],
   "source": [
    "from tensorflow.keras.models import Sequential\n",
    "from tensorflow.keras.layers import Dense, GRU, Dropout, Flatten, BatchNormalization, Activation, Conv3D, MaxPooling3D\n",
    "from tensorflow.keras.callbacks import ModelCheckpoint, ReduceLROnPlateau\n",
    "from tensorflow.keras import optimizers\n",
    "\n",
    "input_shape = (len(img_idx), img_size[0], img_size[1], 3)\n",
    "\n",
    "#write your model here\n",
    "model1 = Sequential()\n",
    "model1.add(Conv3D(16, kernel_size=(3,3,3), activation='relu', input_shape=input_shape))\n",
    "model1.add(MaxPooling3D(pool_size=(2, 2, 2)))\n",
    "\n",
    "model1.add(Conv3D(32, kernel_size=(3,3,3), activation='relu'))\n",
    "model1.add(MaxPooling3D(pool_size=(2, 2, 2)))\n",
    "\n",
    "model1.add(Flatten())\n",
    "\n",
    "model1.add(Dense(64, activation='relu'))\n",
    "model1.add(Dense(5, activation='softmax'))\n",
    "\n",
    "model1.summary()\n",
    "\n"
   ]
  },
  {
   "cell_type": "markdown",
   "metadata": {},
   "source": [
    "Now that you have written the model, the next step is to `compile` the model. When you print the `summary` of the model, you'll see the total number of parameters you have to train."
   ]
  },
  {
   "cell_type": "code",
   "execution_count": 8,
   "metadata": {
    "scrolled": true
   },
   "outputs": [
    {
     "name": "stdout",
     "output_type": "stream",
     "text": [
      "Model: \"sequential\"\n",
      "_________________________________________________________________\n",
      " Layer (type)                Output Shape              Param #   \n",
      "=================================================================\n",
      " conv3d (Conv3D)             (None, 28, 98, 98, 16)    1312      \n",
      "                                                                 \n",
      " max_pooling3d (MaxPooling3D  (None, 14, 49, 49, 16)   0         \n",
      " )                                                               \n",
      "                                                                 \n",
      " conv3d_1 (Conv3D)           (None, 12, 47, 47, 32)    13856     \n",
      "                                                                 \n",
      " max_pooling3d_1 (MaxPooling  (None, 6, 23, 23, 32)    0         \n",
      " 3D)                                                             \n",
      "                                                                 \n",
      " flatten (Flatten)           (None, 101568)            0         \n",
      "                                                                 \n",
      " dense (Dense)               (None, 64)                6500416   \n",
      "                                                                 \n",
      " dense_1 (Dense)             (None, 5)                 325       \n",
      "                                                                 \n",
      "=================================================================\n",
      "Total params: 6,515,909\n",
      "Trainable params: 6,515,909\n",
      "Non-trainable params: 0\n",
      "_________________________________________________________________\n"
     ]
    },
    {
     "name": "stderr",
     "output_type": "stream",
     "text": [
      "/usr/local/lib/python3.8/dist-packages/keras/optimizer_v2/adam.py:105: UserWarning: The `lr` argument is deprecated, use `learning_rate` instead.\n",
      "  super(Adam, self).__init__(name, **kwargs)\n"
     ]
    }
   ],
   "source": [
    "optimiser = optimizers.Adam(lr=0.001, decay=1e-6)\n",
    "model1.compile(optimizer=optimiser, loss='categorical_crossentropy', metrics=['categorical_accuracy', keras.metrics.AUC()])\n",
    "model1.summary()"
   ]
  },
  {
   "cell_type": "markdown",
   "metadata": {},
   "source": [
    "Let us create the `train_generator` and the `val_generator` which will be used in `.fit_generator`."
   ]
  },
  {
   "cell_type": "code",
   "execution_count": 9,
   "metadata": {},
   "outputs": [],
   "source": [
    "train_generator = generator(train_path, train_doc, batch_size)\n",
    "val_generator = generator(val_path, val_doc, batch_size)"
   ]
  },
  {
   "cell_type": "code",
   "execution_count": 10,
   "metadata": {},
   "outputs": [],
   "source": [
    "def getFilePath(model_name):\n",
    "    curr_dt_tm = datetime.datetime.now()\n",
    "    return model_name + '_' + str(curr_dt_tm).replace(' ','').replace(':','_') + '.h5'"
   ]
  },
  {
   "cell_type": "code",
   "execution_count": 11,
   "metadata": {},
   "outputs": [],
   "source": [
    "model_name = 'model_init' + '_' + str(curr_dt_time).replace(' ','').replace(':','_') + '/'\n",
    "    \n",
    "if not os.path.exists(model_name):\n",
    "    os.mkdir(model_name)\n",
    "        \n",
    "#filepath = model_name + 'model-{epoch:05d}-{loss:.5f}-{categorical_accuracy:.5f}-{val_loss:.5f}-{val_categorical_accuracy:.5f}.keras'\n",
    "filepath = getFilePath(model_name)\n",
    "\n",
    "checkpoint = ModelCheckpoint(filepath, monitor='val_loss', verbose=1, save_best_only=False, save_weights_only=False, mode='auto',save_freq = num_epochs)\n",
    "\n",
    "LR = ReduceLROnPlateau(monitor='val_loss', factor=0.2, patience=5, min_lr=0.001, verbose=1)# write the REducelronplateau code here\n",
    "#callbacks_list = [checkpoint, LR]"
   ]
  },
  {
   "cell_type": "code",
   "execution_count": 12,
   "metadata": {},
   "outputs": [],
   "source": [
    "def createModelCheckPoint(model_name):\n",
    "    filepath = getFilePath(model_name)\n",
    "    return ModelCheckpoint(filepath, monitor='val_loss', verbose=1, save_best_only=False, save_weights_only=False, mode='auto',save_freq = num_epochs)\n",
    "\n",
    "def getCallbacksList(model_name):\n",
    "    return [createModelCheckPoint(model_name), LR]"
   ]
  },
  {
   "cell_type": "markdown",
   "metadata": {},
   "source": [
    "The `steps_per_epoch` and `validation_steps` are used by `fit` method to decide the number of next() calls it need to make."
   ]
  },
  {
   "cell_type": "code",
   "execution_count": 13,
   "metadata": {},
   "outputs": [],
   "source": [
    "if (num_train_sequences%batch_size) == 0:\n",
    "    steps_per_epoch = int(num_train_sequences/batch_size)\n",
    "else:\n",
    "    steps_per_epoch = (num_train_sequences//batch_size) + 1\n",
    "\n",
    "if (num_val_sequences%batch_size) == 0:\n",
    "    validation_steps = int(num_val_sequences/batch_size)\n",
    "else:\n",
    "    validation_steps = (num_val_sequences//batch_size) + 1"
   ]
  },
  {
   "cell_type": "markdown",
   "metadata": {},
   "source": [
    "Let us now fit the model. This will start training the model and with the help of the checkpoints, you'll be able to save the model at the end of each epoch."
   ]
  },
  {
   "cell_type": "code",
   "execution_count": 44,
   "metadata": {},
   "outputs": [
    {
     "name": "stdout",
     "output_type": "stream",
     "text": [
      "Source path =  /home/datasets/Project_data/train ; batch size = 32\n",
      "Epoch 1/5\n",
      " 9/21 [===========>..................] - ETA: 1:28 - loss: 802.0500 - categorical_accuracy: 0.1979 - auc_2: 0.4969\n",
      "Epoch 00001: saving model to model_init_2024-09-0304_47_20.471684/_2024-09-0304_52_02.922229.h5\n",
      "19/21 [==========================>...] - ETA: 15s - loss: 380.9043 - categorical_accuracy: 0.2253 - auc_2: 0.5257\n",
      "Epoch 00001: saving model to model_init_2024-09-0304_47_20.471684/_2024-09-0304_52_02.922229.h5\n",
      "21/21 [==============================] - ETA: 0s - loss: 349.4261 - categorical_accuracy: 0.2474 - auc_2: 0.5355Source path =  /home/datasets/Project_data/val ; batch size = 32\n",
      "21/21 [==============================] - 190s 9s/step - loss: 349.4261 - categorical_accuracy: 0.2474 - auc_2: 0.5355 - val_loss: 1.4577 - val_categorical_accuracy: 0.3900 - val_auc_2: 0.6883 - lr: 0.0010\n",
      "Epoch 2/5\n",
      " 8/21 [==========>...................] - ETA: 1:41 - loss: 1.3467 - categorical_accuracy: 0.4844 - auc_2: 0.7693\n",
      "Epoch 00002: saving model to model_init_2024-09-0304_47_20.471684/_2024-09-0304_52_02.922229.h5\n",
      "18/21 [========================>.....] - ETA: 22s - loss: 1.3924 - categorical_accuracy: 0.4635 - auc_2: 0.7519\n",
      "Epoch 00002: saving model to model_init_2024-09-0304_47_20.471684/_2024-09-0304_52_02.922229.h5\n",
      "21/21 [==============================] - 189s 9s/step - loss: 1.3941 - categorical_accuracy: 0.4600 - auc_2: 0.7513 - val_loss: 1.4962 - val_categorical_accuracy: 0.3800 - val_auc_2: 0.6704 - lr: 0.0010\n",
      "Epoch 3/5\n",
      " 7/21 [=========>....................] - ETA: 1:43 - loss: 1.2791 - categorical_accuracy: 0.4643 - auc_2: 0.7885\n",
      "Epoch 00003: saving model to model_init_2024-09-0304_47_20.471684/_2024-09-0304_52_02.922229.h5\n",
      "17/21 [=======================>......] - ETA: 30s - loss: 1.2303 - categorical_accuracy: 0.4945 - auc_2: 0.8181\n",
      "Epoch 00003: saving model to model_init_2024-09-0304_47_20.471684/_2024-09-0304_52_02.922229.h5\n",
      "21/21 [==============================] - 191s 10s/step - loss: 1.2107 - categorical_accuracy: 0.5143 - auc_2: 0.8293 - val_loss: 1.5063 - val_categorical_accuracy: 0.4100 - val_auc_2: 0.7131 - lr: 0.0010\n",
      "Epoch 4/5\n",
      " 6/21 [=======>......................] - ETA: 1:58 - loss: 0.9226 - categorical_accuracy: 0.6302 - auc_2: 0.9051\n",
      "Epoch 00004: saving model to model_init_2024-09-0304_47_20.471684/_2024-09-0304_52_02.922229.h5\n",
      "16/21 [=====================>........] - ETA: 39s - loss: 0.8265 - categorical_accuracy: 0.6855 - auc_2: 0.9203\n",
      "Epoch 00004: saving model to model_init_2024-09-0304_47_20.471684/_2024-09-0304_52_02.922229.h5\n",
      "21/21 [==============================] - 186s 9s/step - loss: 0.8117 - categorical_accuracy: 0.6893 - auc_2: 0.9208 - val_loss: 1.8770 - val_categorical_accuracy: 0.3200 - val_auc_2: 0.6691 - lr: 0.0010\n",
      "Epoch 5/5\n",
      " 5/21 [======>.......................] - ETA: 2:07 - loss: 0.6271 - categorical_accuracy: 0.8500 - auc_2: 0.9607\n",
      "Epoch 00005: saving model to model_init_2024-09-0304_47_20.471684/_2024-09-0304_52_02.922229.h5\n",
      "15/21 [====================>.........] - ETA: 47s - loss: 0.5819 - categorical_accuracy: 0.8167 - auc_2: 0.9647\n",
      "Epoch 00005: saving model to model_init_2024-09-0304_47_20.471684/_2024-09-0304_52_02.922229.h5\n",
      "21/21 [==============================] - 192s 10s/step - loss: 0.5482 - categorical_accuracy: 0.8175 - auc_2: 0.9666 - val_loss: 3.6352 - val_categorical_accuracy: 0.3800 - val_auc_2: 0.6640 - lr: 0.0010\n"
     ]
    },
    {
     "data": {
      "text/plain": [
       "<keras.callbacks.History at 0x7f45920b92e0>"
      ]
     },
     "execution_count": 44,
     "metadata": {},
     "output_type": "execute_result"
    }
   ],
   "source": [
    "model1.fit(train_generator, steps_per_epoch=steps_per_epoch, epochs=5, verbose=1, \n",
    "                    callbacks=getCallbacksList(model_name), validation_data=val_generator, \n",
    "                    validation_steps=validation_steps, class_weight=None, workers=1, initial_epoch=0)"
   ]
  },
  {
   "cell_type": "markdown",
   "metadata": {},
   "source": [
    "**Observations**: The model is clearly overfitting with training accuracy of ~0.8 and validation accuracy of ~0.35."
   ]
  },
  {
   "cell_type": "markdown",
   "metadata": {},
   "source": [
    " "
   ]
  },
  {
   "cell_type": "markdown",
   "metadata": {},
   "source": [
    "#### Model 2: CNN + RNN"
   ]
  },
  {
   "cell_type": "code",
   "execution_count": 14,
   "metadata": {},
   "outputs": [
    {
     "name": "stdout",
     "output_type": "stream",
     "text": [
      "Model: \"sequential_1\"\n",
      "_________________________________________________________________\n",
      " Layer (type)                Output Shape              Param #   \n",
      "=================================================================\n",
      " conv3d_2 (Conv3D)           (None, 28, 98, 98, 16)    1312      \n",
      "                                                                 \n",
      " max_pooling3d_2 (MaxPooling  (None, 14, 49, 49, 16)   0         \n",
      " 3D)                                                             \n",
      "                                                                 \n",
      " conv3d_3 (Conv3D)           (None, 12, 47, 47, 32)    13856     \n",
      "                                                                 \n",
      " max_pooling3d_3 (MaxPooling  (None, 6, 23, 23, 32)    0         \n",
      " 3D)                                                             \n",
      "                                                                 \n",
      " time_distributed (TimeDistr  (None, 6, 16928)         0         \n",
      " ibuted)                                                         \n",
      "                                                                 \n",
      " simple_rnn (SimpleRNN)      (None, 64)                1087552   \n",
      "                                                                 \n",
      " dense_2 (Dense)             (None, 64)                4160      \n",
      "                                                                 \n",
      " dense_3 (Dense)             (None, 5)                 325       \n",
      "                                                                 \n",
      "=================================================================\n",
      "Total params: 1,107,205\n",
      "Trainable params: 1,107,205\n",
      "Non-trainable params: 0\n",
      "_________________________________________________________________\n"
     ]
    }
   ],
   "source": [
    "from tensorflow.keras.layers import SimpleRNN, TimeDistributed\n",
    "\n",
    "input_shape = (len(img_idx), img_size[0], img_size[1], 3)\n",
    "\n",
    "#write your model here\n",
    "model2 = Sequential()\n",
    "model2.add(Conv3D(16, kernel_size=(3,3,3), activation='relu', input_shape=input_shape))\n",
    "model2.add(MaxPooling3D(pool_size=(2, 2, 2)))\n",
    "\n",
    "model2.add(Conv3D(32, kernel_size=(3,3,3), activation='relu'))\n",
    "model2.add(MaxPooling3D(pool_size=(2, 2, 2)))\n",
    "\n",
    "model2.add(TimeDistributed(Flatten())) \n",
    "\n",
    "model2.add(SimpleRNN(64, activation='relu'))\n",
    "\n",
    "model2.add(Dense(64, activation='relu'))\n",
    "model2.add(Dense(5, activation='softmax'))\n",
    "\n",
    "model2.compile(optimizer=optimiser, loss='categorical_crossentropy', metrics=['categorical_accuracy', keras.metrics.AUC()])\n",
    "model2.summary()\n",
    "\n",
    "train_generator2 = generator(train_path, train_doc, batch_size)\n",
    "val_generator2 = generator(val_path, val_doc, batch_size)\n"
   ]
  },
  {
   "cell_type": "code",
   "execution_count": 49,
   "metadata": {},
   "outputs": [
    {
     "name": "stdout",
     "output_type": "stream",
     "text": [
      "Source path =  /home/datasets/Project_data/train ; batch size = 32\n",
      "Epoch 1/5\n",
      " 9/21 [===========>..................] - ETA: 1:30 - loss: 69.8866 - categorical_accuracy: 0.2188 - auc_4: 0.5209\n",
      "Epoch 00001: saving model to model_init_2024-09-0304_47_20.471684/_2024-09-0305_16_40.919276.h5\n",
      "19/21 [==========================>...] - ETA: 15s - loss: 33.9474 - categorical_accuracy: 0.2171 - auc_4: 0.5249\n",
      "Epoch 00001: saving model to model_init_2024-09-0304_47_20.471684/_2024-09-0305_16_40.919276.h5\n",
      "21/21 [==============================] - ETA: 0s - loss: 31.2647 - categorical_accuracy: 0.2142 - auc_4: 0.5246Source path =  /home/datasets/Project_data/val ; batch size = 32\n",
      "21/21 [==============================] - 192s 10s/step - loss: 31.2647 - categorical_accuracy: 0.2142 - auc_4: 0.5246 - val_loss: 1.6095 - val_categorical_accuracy: 0.2300 - val_auc_4: 0.5086 - lr: 0.0010\n",
      "Epoch 2/5\n",
      " 8/21 [==========>...................] - ETA: 1:41 - loss: 1.5812 - categorical_accuracy: 0.2734 - auc_4: 0.5767\n",
      "Epoch 00002: saving model to model_init_2024-09-0304_47_20.471684/_2024-09-0305_16_40.919276.h5\n",
      "18/21 [========================>.....] - ETA: 23s - loss: 1.6073 - categorical_accuracy: 0.2604 - auc_4: 0.5669\n",
      "Epoch 00002: saving model to model_init_2024-09-0304_47_20.471684/_2024-09-0305_16_40.919276.h5\n",
      "21/21 [==============================] - 188s 9s/step - loss: 1.6052 - categorical_accuracy: 0.2670 - auc_4: 0.5675 - val_loss: 1.6067 - val_categorical_accuracy: 0.2600 - val_auc_4: 0.5373 - lr: 0.0010\n",
      "Epoch 3/5\n",
      " 7/21 [=========>....................] - ETA: 1:48 - loss: 1.6005 - categorical_accuracy: 0.2545 - auc_4: 0.5490\n",
      "Epoch 00003: saving model to model_init_2024-09-0304_47_20.471684/_2024-09-0305_16_40.919276.h5\n",
      "17/21 [=======================>......] - ETA: 30s - loss: 1.5982 - categorical_accuracy: 0.2500 - auc_4: 0.5432\n",
      "Epoch 00003: saving model to model_init_2024-09-0304_47_20.471684/_2024-09-0305_16_40.919276.h5\n",
      "21/21 [==============================] - 191s 10s/step - loss: 1.5991 - categorical_accuracy: 0.2413 - auc_4: 0.5349 - val_loss: 1.6093 - val_categorical_accuracy: 0.1900 - val_auc_4: 0.5082 - lr: 0.0010\n",
      "Epoch 4/5\n",
      " 6/21 [=======>......................] - ETA: 1:53 - loss: 1.5939 - categorical_accuracy: 0.2240 - auc_4: 0.5377\n",
      "Epoch 00004: saving model to model_init_2024-09-0304_47_20.471684/_2024-09-0305_16_40.919276.h5\n",
      "16/21 [=====================>........] - ETA: 37s - loss: 1.5878 - categorical_accuracy: 0.2539 - auc_4: 0.5556\n",
      "Epoch 00004: saving model to model_init_2024-09-0304_47_20.471684/_2024-09-0305_16_40.919276.h5\n",
      "21/21 [==============================] - 182s 9s/step - loss: 1.5842 - categorical_accuracy: 0.2519 - auc_4: 0.5521 - val_loss: 1.6025 - val_categorical_accuracy: 0.2700 - val_auc_4: 0.5366 - lr: 0.0010\n",
      "Epoch 5/5\n",
      " 5/21 [======>.......................] - ETA: 2:01 - loss: 1.5755 - categorical_accuracy: 0.2937 - auc_4: 0.5719\n",
      "Epoch 00005: saving model to model_init_2024-09-0304_47_20.471684/_2024-09-0305_16_40.919276.h5\n",
      "15/21 [====================>.........] - ETA: 46s - loss: 1.5206 - categorical_accuracy: 0.3313 - auc_4: 0.6225\n",
      "Epoch 00005: saving model to model_init_2024-09-0304_47_20.471684/_2024-09-0305_16_40.919276.h5\n",
      "21/21 [==============================] - 192s 10s/step - loss: 1.5004 - categorical_accuracy: 0.3228 - auc_4: 0.6261 - val_loss: 1.6376 - val_categorical_accuracy: 0.2400 - val_auc_4: 0.5928 - lr: 0.0010\n"
     ]
    },
    {
     "data": {
      "text/plain": [
       "<keras.callbacks.History at 0x7f4508a1c160>"
      ]
     },
     "execution_count": 49,
     "metadata": {},
     "output_type": "execute_result"
    }
   ],
   "source": [
    "model2.fit(train_generator2, steps_per_epoch=steps_per_epoch, epochs=5, verbose=1, \n",
    "                    callbacks=getCallbacksList(model_name), validation_data=val_generator2, \n",
    "                    validation_steps=validation_steps, class_weight=None, workers=1, initial_epoch=0)"
   ]
  },
  {
   "cell_type": "markdown",
   "metadata": {},
   "source": [
    "**Observations**: The model is not learning well with Categorical Accuracy: ~0.25-0.3 and Validation Categorical Accuracy: ~0.25. Even after 5 Epochs, based on AUC ~0.55-0.6, the model is only doing slightly better than a random guess."
   ]
  },
  {
   "cell_type": "markdown",
   "metadata": {},
   "source": [
    "  "
   ]
  },
  {
   "cell_type": "markdown",
   "metadata": {},
   "source": [
    "#### Model 3: CNN + GRU"
   ]
  },
  {
   "cell_type": "code",
   "execution_count": 15,
   "metadata": {},
   "outputs": [
    {
     "name": "stdout",
     "output_type": "stream",
     "text": [
      "Model: \"sequential_2\"\n",
      "_________________________________________________________________\n",
      " Layer (type)                Output Shape              Param #   \n",
      "=================================================================\n",
      " conv3d_4 (Conv3D)           (None, 28, 98, 98, 16)    1312      \n",
      "                                                                 \n",
      " max_pooling3d_4 (MaxPooling  (None, 14, 49, 49, 16)   0         \n",
      " 3D)                                                             \n",
      "                                                                 \n",
      " conv3d_5 (Conv3D)           (None, 12, 47, 47, 32)    13856     \n",
      "                                                                 \n",
      " max_pooling3d_5 (MaxPooling  (None, 6, 23, 23, 32)    0         \n",
      " 3D)                                                             \n",
      "                                                                 \n",
      " time_distributed_1 (TimeDis  (None, 6, 16928)         0         \n",
      " tributed)                                                       \n",
      "                                                                 \n",
      " gru (GRU)                   (None, 128)               6550272   \n",
      "                                                                 \n",
      " dense_4 (Dense)             (None, 64)                8256      \n",
      "                                                                 \n",
      " dense_5 (Dense)             (None, 5)                 325       \n",
      "                                                                 \n",
      "=================================================================\n",
      "Total params: 6,574,021\n",
      "Trainable params: 6,574,021\n",
      "Non-trainable params: 0\n",
      "_________________________________________________________________\n"
     ]
    }
   ],
   "source": [
    "input_shape = (len(img_idx), img_size[0], img_size[1], 3)\n",
    "\n",
    "#write your model here\n",
    "model3 = Sequential()\n",
    "model3.add(Conv3D(16, kernel_size=(3,3,3), activation='relu', input_shape=input_shape))\n",
    "model3.add(MaxPooling3D(pool_size=(2, 2, 2)))\n",
    "\n",
    "model3.add(Conv3D(32, kernel_size=(3,3,3), activation='relu'))\n",
    "model3.add(MaxPooling3D(pool_size=(2, 2, 2)))\n",
    "\n",
    "model3.add(TimeDistributed(Flatten())) \n",
    "\n",
    "model3.add(GRU(128, activation='tanh', return_sequences=False))\n",
    "\n",
    "model3.add(Dense(64, activation='relu'))\n",
    "model3.add(Dense(5, activation='softmax'))\n",
    "\n",
    "model3.compile(optimizer=optimizers.Adam(lr=0.001, decay=1e-6), loss='categorical_crossentropy', metrics=['categorical_accuracy', keras.metrics.AUC()])\n",
    "model3.summary()\n",
    "\n",
    "train_generator3 = generator(train_path, train_doc, batch_size)\n",
    "val_generator3 = generator(val_path, val_doc, batch_size)\n",
    "\n"
   ]
  },
  {
   "cell_type": "code",
   "execution_count": 51,
   "metadata": {},
   "outputs": [
    {
     "name": "stdout",
     "output_type": "stream",
     "text": [
      "Source path =  /home/datasets/Project_data/train ; batch size = 32\n",
      "Epoch 1/5\n",
      " 9/21 [===========>..................] - ETA: 1:34 - loss: 1.7887 - categorical_accuracy: 0.2083 - auc_5: 0.5006\n",
      "Epoch 00001: saving model to model_init_2024-09-0304_47_20.471684/_2024-09-0305_34_29.140399.h5\n",
      "19/21 [==========================>...] - ETA: 15s - loss: 1.7077 - categorical_accuracy: 0.1990 - auc_5: 0.4945\n",
      "Epoch 00001: saving model to model_init_2024-09-0304_47_20.471684/_2024-09-0305_34_29.140399.h5\n",
      "21/21 [==============================] - ETA: 0s - loss: 1.7008 - categorical_accuracy: 0.1991 - auc_5: 0.4934Source path =  /home/datasets/Project_data/val ; batch size = 32\n",
      "21/21 [==============================] - 193s 10s/step - loss: 1.7008 - categorical_accuracy: 0.1991 - auc_5: 0.4934 - val_loss: 1.6077 - val_categorical_accuracy: 0.2100 - val_auc_5: 0.5300 - lr: 0.0010\n",
      "Epoch 2/5\n",
      " 8/21 [==========>...................] - ETA: 1:43 - loss: 1.6121 - categorical_accuracy: 0.2344 - auc_5: 0.4940\n",
      "Epoch 00002: saving model to model_init_2024-09-0304_47_20.471684/_2024-09-0305_34_29.140399.h5\n",
      "18/21 [========================>.....] - ETA: 23s - loss: 1.6308 - categorical_accuracy: 0.2049 - auc_5: 0.4854\n",
      "Epoch 00002: saving model to model_init_2024-09-0304_47_20.471684/_2024-09-0305_34_29.140399.h5\n",
      "21/21 [==============================] - 195s 10s/step - loss: 1.6287 - categorical_accuracy: 0.2051 - auc_5: 0.4929 - val_loss: 1.6877 - val_categorical_accuracy: 0.1800 - val_auc_5: 0.4413 - lr: 0.0010\n",
      "Epoch 3/5\n",
      " 7/21 [=========>....................] - ETA: 1:49 - loss: 1.6681 - categorical_accuracy: 0.1473 - auc_5: 0.4475\n",
      "Epoch 00003: saving model to model_init_2024-09-0304_47_20.471684/_2024-09-0305_34_29.140399.h5\n",
      "17/21 [=======================>......] - ETA: 31s - loss: 1.6472 - categorical_accuracy: 0.1728 - auc_5: 0.4805\n",
      "Epoch 00003: saving model to model_init_2024-09-0304_47_20.471684/_2024-09-0305_34_29.140399.h5\n",
      "21/21 [==============================] - 203s 10s/step - loss: 1.6418 - categorical_accuracy: 0.1765 - auc_5: 0.4834 - val_loss: 1.6209 - val_categorical_accuracy: 0.2100 - val_auc_5: 0.4987 - lr: 0.0010\n",
      "Epoch 4/5\n",
      " 6/21 [=======>......................] - ETA: 1:57 - loss: 1.6303 - categorical_accuracy: 0.1979 - auc_5: 0.4973\n",
      "Epoch 00004: saving model to model_init_2024-09-0304_47_20.471684/_2024-09-0305_34_29.140399.h5\n",
      "16/21 [=====================>........] - ETA: 39s - loss: 1.6284 - categorical_accuracy: 0.1953 - auc_5: 0.4928\n",
      "Epoch 00004: saving model to model_init_2024-09-0304_47_20.471684/_2024-09-0305_34_29.140399.h5\n",
      "21/21 [==============================] - 182s 9s/step - loss: 1.6311 - categorical_accuracy: 0.1931 - auc_5: 0.4845 - val_loss: 1.6206 - val_categorical_accuracy: 0.1700 - val_auc_5: 0.4712 - lr: 0.0010\n",
      "Epoch 5/5\n",
      " 5/21 [======>.......................] - ETA: 2:01 - loss: 1.6115 - categorical_accuracy: 0.2000 - auc_5: 0.4981\n",
      "Epoch 00005: saving model to model_init_2024-09-0304_47_20.471684/_2024-09-0305_34_29.140399.h5\n",
      "15/21 [====================>.........] - ETA: 45s - loss: 1.6163 - categorical_accuracy: 0.2125 - auc_5: 0.5165\n",
      "Epoch 00005: saving model to model_init_2024-09-0304_47_20.471684/_2024-09-0305_34_29.140399.h5\n",
      "21/21 [==============================] - 190s 9s/step - loss: 1.6204 - categorical_accuracy: 0.2051 - auc_5: 0.5043 - val_loss: 1.6184 - val_categorical_accuracy: 0.2100 - val_auc_5: 0.5000 - lr: 0.0010\n"
     ]
    },
    {
     "data": {
      "text/plain": [
       "<keras.callbacks.History at 0x7f45089c8fa0>"
      ]
     },
     "execution_count": 51,
     "metadata": {},
     "output_type": "execute_result"
    }
   ],
   "source": [
    "model3.fit(train_generator3, steps_per_epoch=steps_per_epoch, epochs=5, verbose=1, \n",
    "                    callbacks=getCallbacksList(model_name), validation_data=val_generator3, \n",
    "                    validation_steps=validation_steps, class_weight=None, workers=1, initial_epoch=0)"
   ]
  },
  {
   "cell_type": "markdown",
   "metadata": {},
   "source": [
    "**Observations**: The model is not learning well with Categorical Accuracy: ~0.2 and Validation Categorical Accuracy: ~0.2. Even after 5 Epochs, based on AUC ~0.45-0.5, the model is only doing slightly better than a random guess."
   ]
  },
  {
   "cell_type": "markdown",
   "metadata": {},
   "source": [
    "  "
   ]
  },
  {
   "cell_type": "markdown",
   "metadata": {},
   "source": [
    "#### Model 4: CNN + LSTM"
   ]
  },
  {
   "cell_type": "code",
   "execution_count": 16,
   "metadata": {},
   "outputs": [
    {
     "name": "stdout",
     "output_type": "stream",
     "text": [
      "WARNING:tensorflow:Layer lstm will not use cuDNN kernels since it doesn't meet the criteria. It will use a generic GPU kernel as fallback when running on GPU.\n",
      "Model: \"sequential_3\"\n",
      "_________________________________________________________________\n",
      " Layer (type)                Output Shape              Param #   \n",
      "=================================================================\n",
      " conv3d_6 (Conv3D)           (None, 28, 98, 98, 16)    1312      \n",
      "                                                                 \n",
      " max_pooling3d_6 (MaxPooling  (None, 14, 49, 49, 16)   0         \n",
      " 3D)                                                             \n",
      "                                                                 \n",
      " conv3d_7 (Conv3D)           (None, 12, 47, 47, 32)    13856     \n",
      "                                                                 \n",
      " max_pooling3d_7 (MaxPooling  (None, 6, 23, 23, 32)    0         \n",
      " 3D)                                                             \n",
      "                                                                 \n",
      " time_distributed_2 (TimeDis  (None, 6, 16928)         0         \n",
      " tributed)                                                       \n",
      "                                                                 \n",
      " lstm (LSTM)                 (None, 128)               8733184   \n",
      "                                                                 \n",
      " dense_6 (Dense)             (None, 64)                8256      \n",
      "                                                                 \n",
      " dense_7 (Dense)             (None, 5)                 325       \n",
      "                                                                 \n",
      "=================================================================\n",
      "Total params: 8,756,933\n",
      "Trainable params: 8,756,933\n",
      "Non-trainable params: 0\n",
      "_________________________________________________________________\n"
     ]
    }
   ],
   "source": [
    "from tensorflow.keras.layers import LSTM\n",
    "\n",
    "input_shape = (len(img_idx), img_size[0], img_size[1], 3)\n",
    "\n",
    "#write your model here\n",
    "model4 = Sequential()\n",
    "model4.add(Conv3D(16, kernel_size=(3,3,3), activation='relu', input_shape=input_shape))\n",
    "model4.add(MaxPooling3D(pool_size=(2, 2, 2)))\n",
    "\n",
    "model4.add(Conv3D(32, kernel_size=(3,3,3), activation='relu'))\n",
    "model4.add(MaxPooling3D(pool_size=(2, 2, 2)))\n",
    "\n",
    "model4.add(TimeDistributed(Flatten()))\n",
    "\n",
    "model4.add(LSTM(128, activation='relu', return_sequences=False))\n",
    "\n",
    "model4.add(Dense(64, activation='relu'))\n",
    "model4.add(Dense(5, activation='softmax'))\n",
    "\n",
    "model4.compile(optimizer=optimizers.Adam(lr=0.001, decay=1e-6), loss='categorical_crossentropy', metrics=['categorical_accuracy', keras.metrics.AUC()])\n",
    "model4.summary()\n",
    "\n",
    "train_generator4 = generator(train_path, train_doc, batch_size)\n",
    "val_generator4 = generator(val_path, val_doc, batch_size)\n"
   ]
  },
  {
   "cell_type": "code",
   "execution_count": 17,
   "metadata": {},
   "outputs": [
    {
     "name": "stdout",
     "output_type": "stream",
     "text": [
      "Source path =  /home/datasets/Project_data/train ; batch size = 32\n",
      "Epoch 1/5\n"
     ]
    },
    {
     "name": "stderr",
     "output_type": "stream",
     "text": [
      "2024-09-03 07:04:11.451945: I tensorflow/stream_executor/cuda/cuda_dnn.cc:377] Loaded cuDNN version 8302\n"
     ]
    },
    {
     "name": "stdout",
     "output_type": "stream",
     "text": [
      " 9/21 [===========>..................] - ETA: 1:42 - loss: 366.9183 - categorical_accuracy: 0.2535 - auc_3: 0.5343\n",
      "Epoch 00001: saving model to model_init_2024-09-0307_03_00.027498/_2024-09-0307_04_00.214070.h5\n",
      "19/21 [==========================>...] - ETA: 17s - loss: 234.7911 - categorical_accuracy: 0.2434 - auc_3: 0.5297\n",
      "Epoch 00001: saving model to model_init_2024-09-0307_03_00.027498/_2024-09-0307_04_00.214070.h5\n",
      "21/21 [==============================] - ETA: 0s - loss: 219.0838 - categorical_accuracy: 0.2489 - auc_3: 0.5326Source path =  /home/datasets/Project_data/val ; batch size = 32\n",
      "21/21 [==============================] - 223s 11s/step - loss: 219.0838 - categorical_accuracy: 0.2489 - auc_3: 0.5326 - val_loss: 40.6901 - val_categorical_accuracy: 0.3700 - val_auc_3: 0.6201 - lr: 0.0010\n",
      "Epoch 2/5\n",
      " 8/21 [==========>...................] - ETA: 1:50 - loss: 33.7390 - categorical_accuracy: 0.4062 - auc_3: 0.6334\n",
      "Epoch 00002: saving model to model_init_2024-09-0307_03_00.027498/_2024-09-0307_04_00.214070.h5\n",
      "18/21 [========================>.....] - ETA: 25s - loss: 23.5067 - categorical_accuracy: 0.3715 - auc_3: 0.6337\n",
      "Epoch 00002: saving model to model_init_2024-09-0307_03_00.027498/_2024-09-0307_04_00.214070.h5\n",
      "21/21 [==============================] - 206s 10s/step - loss: 21.3376 - categorical_accuracy: 0.3771 - auc_3: 0.6385 - val_loss: 6.7787 - val_categorical_accuracy: 0.4000 - val_auc_3: 0.6609 - lr: 0.0010\n",
      "Epoch 3/5\n",
      " 7/21 [=========>....................] - ETA: 1:46 - loss: 4.1825 - categorical_accuracy: 0.4509 - auc_3: 0.7361\n",
      "Epoch 00003: saving model to model_init_2024-09-0307_03_00.027498/_2024-09-0307_04_00.214070.h5\n",
      "17/21 [=======================>......] - ETA: 31s - loss: 3.5988 - categorical_accuracy: 0.4853 - auc_3: 0.7635\n",
      "Epoch 00003: saving model to model_init_2024-09-0307_03_00.027498/_2024-09-0307_04_00.214070.h5\n",
      "21/21 [==============================] - 192s 10s/step - loss: 3.2768 - categorical_accuracy: 0.5204 - auc_3: 0.7847 - val_loss: 3.1656 - val_categorical_accuracy: 0.4600 - val_auc_3: 0.7382 - lr: 0.0010\n",
      "Epoch 4/5\n",
      " 6/21 [=======>......................] - ETA: 1:57 - loss: 1.3221 - categorical_accuracy: 0.6510 - auc_3: 0.8836\n",
      "Epoch 00004: saving model to model_init_2024-09-0307_03_00.027498/_2024-09-0307_04_00.214070.h5\n",
      "16/21 [=====================>........] - ETA: 38s - loss: 1.1655 - categorical_accuracy: 0.7051 - auc_3: 0.9030\n",
      "Epoch 00004: saving model to model_init_2024-09-0307_03_00.027498/_2024-09-0307_04_00.214070.h5\n",
      "21/21 [==============================] - 185s 9s/step - loss: 1.0369 - categorical_accuracy: 0.7315 - auc_3: 0.9157 - val_loss: 2.3239 - val_categorical_accuracy: 0.5000 - val_auc_3: 0.7854 - lr: 0.0010\n",
      "Epoch 5/5\n",
      " 5/21 [======>.......................] - ETA: 2:09 - loss: 0.4142 - categorical_accuracy: 0.8687 - auc_3: 0.9813\n",
      "Epoch 00005: saving model to model_init_2024-09-0307_03_00.027498/_2024-09-0307_04_00.214070.h5\n",
      "15/21 [====================>.........] - ETA: 47s - loss: 0.4218 - categorical_accuracy: 0.8625 - auc_3: 0.9771\n",
      "Epoch 00005: saving model to model_init_2024-09-0307_03_00.027498/_2024-09-0307_04_00.214070.h5\n",
      "21/21 [==============================] - 197s 10s/step - loss: 0.3962 - categorical_accuracy: 0.8718 - auc_3: 0.9791 - val_loss: 2.2782 - val_categorical_accuracy: 0.5800 - val_auc_3: 0.8328 - lr: 0.0010\n"
     ]
    },
    {
     "data": {
      "text/plain": [
       "<keras.callbacks.History at 0x7f05c1ce6c10>"
      ]
     },
     "execution_count": 17,
     "metadata": {},
     "output_type": "execute_result"
    }
   ],
   "source": [
    "callbacks_list4 = [createModelCheckPoint(model_name)]\n",
    "model4.fit(train_generator4, steps_per_epoch=steps_per_epoch, epochs=5, verbose=1, \n",
    "                    callbacks=getCallbacksList(model_name), validation_data=val_generator4, \n",
    "                    validation_steps=validation_steps, class_weight=None, workers=1, initial_epoch=0)"
   ]
  },
  {
   "cell_type": "markdown",
   "metadata": {},
   "source": [
    "**Observations**: With Categorical Accuracy: ~0.8 and Validation Categorical Accuracy: ~0.5-0.6 in 5 Epochs, the model is clearly overfitting. But still, it is better than all earlier models. The validation accuracy is steadily rising."
   ]
  },
  {
   "cell_type": "markdown",
   "metadata": {},
   "source": [
    "  "
   ]
  },
  {
   "cell_type": "markdown",
   "metadata": {},
   "source": [
    "#### Model 5: CNN + LSTM (include Dropouts)"
   ]
  },
  {
   "cell_type": "code",
   "execution_count": 21,
   "metadata": {},
   "outputs": [
    {
     "name": "stdout",
     "output_type": "stream",
     "text": [
      "WARNING:tensorflow:Layer lstm_3 will not use cuDNN kernels since it doesn't meet the criteria. It will use a generic GPU kernel as fallback when running on GPU.\n",
      "Model: \"sequential_6\"\n",
      "_________________________________________________________________\n",
      " Layer (type)                Output Shape              Param #   \n",
      "=================================================================\n",
      " conv3d_12 (Conv3D)          (None, 28, 98, 98, 16)    1312      \n",
      "                                                                 \n",
      " max_pooling3d_12 (MaxPoolin  (None, 14, 49, 49, 16)   0         \n",
      " g3D)                                                            \n",
      "                                                                 \n",
      " time_distributed_9 (TimeDis  (None, 14, 49, 49, 16)   0         \n",
      " tributed)                                                       \n",
      "                                                                 \n",
      " conv3d_13 (Conv3D)          (None, 12, 47, 47, 32)    13856     \n",
      "                                                                 \n",
      " max_pooling3d_13 (MaxPoolin  (None, 6, 23, 23, 32)    0         \n",
      " g3D)                                                            \n",
      "                                                                 \n",
      " time_distributed_10 (TimeDi  (None, 6, 23, 23, 32)    0         \n",
      " stributed)                                                      \n",
      "                                                                 \n",
      " time_distributed_11 (TimeDi  (None, 6, 16928)         0         \n",
      " stributed)                                                      \n",
      "                                                                 \n",
      " lstm_3 (LSTM)               (None, 128)               8733184   \n",
      "                                                                 \n",
      " dense_12 (Dense)            (None, 64)                8256      \n",
      "                                                                 \n",
      " dropout_8 (Dropout)         (None, 64)                0         \n",
      "                                                                 \n",
      " dense_13 (Dense)            (None, 5)                 325       \n",
      "                                                                 \n",
      "=================================================================\n",
      "Total params: 8,756,933\n",
      "Trainable params: 8,756,933\n",
      "Non-trainable params: 0\n",
      "_________________________________________________________________\n"
     ]
    },
    {
     "name": "stderr",
     "output_type": "stream",
     "text": [
      "/usr/local/lib/python3.8/dist-packages/keras/optimizer_v2/adam.py:105: UserWarning: The `lr` argument is deprecated, use `learning_rate` instead.\n",
      "  super(Adam, self).__init__(name, **kwargs)\n"
     ]
    }
   ],
   "source": [
    "input_shape = (len(img_idx), img_size[0], img_size[1], 3)\n",
    "\n",
    "#write your model here\n",
    "model5 = Sequential()\n",
    "model5.add(Conv3D(16, kernel_size=(3,3,3), activation='relu', input_shape=input_shape))\n",
    "model5.add(MaxPooling3D(pool_size=(2, 2, 2)))\n",
    "model5.add(TimeDistributed(Dropout(0.25)))\n",
    "\n",
    "model5.add(Conv3D(32, kernel_size=(3,3,3), activation='relu'))\n",
    "model5.add(MaxPooling3D(pool_size=(2, 2, 2)))\n",
    "model5.add(TimeDistributed(Dropout(0.25)))\n",
    "\n",
    "model5.add(TimeDistributed(Flatten()))\n",
    "\n",
    "model5.add(LSTM(128, activation='relu', return_sequences=False))\n",
    "\n",
    "model5.add(Dense(64, activation='relu'))\n",
    "model5.add(Dropout(0.25))\n",
    "model5.add(Dense(5, activation='softmax'))\n",
    "\n",
    "model5.compile(optimizer=optimizers.Adam(lr=0.001, decay=1e-6), loss='categorical_crossentropy', metrics=['categorical_accuracy', keras.metrics.AUC()])\n",
    "model5.summary()\n",
    "\n",
    "train_generator = generator(train_path, train_doc, batch_size)\n",
    "val_generator = generator(val_path, val_doc, batch_size)"
   ]
  },
  {
   "cell_type": "code",
   "execution_count": 22,
   "metadata": {},
   "outputs": [
    {
     "name": "stdout",
     "output_type": "stream",
     "text": [
      "Source path =  /home/datasets/Project_data/train ; batch size = 32\n",
      "Epoch 1/5\n",
      " 9/21 [===========>..................] - ETA: 1:32 - loss: 877.7565 - categorical_accuracy: 0.2188 - auc_6: 0.5125\n",
      "Epoch 00001: saving model to model_init_2024-09-0307_03_00.027498/_2024-09-0307_40_40.299991.h5\n",
      "19/21 [==========================>...] - ETA: 15s - loss: 637.9708 - categorical_accuracy: 0.2188 - auc_6: 0.5124\n",
      "Epoch 00001: saving model to model_init_2024-09-0307_03_00.027498/_2024-09-0307_40_40.299991.h5\n",
      "21/21 [==============================] - ETA: 0s - loss: 593.0806 - categorical_accuracy: 0.2232 - auc_6: 0.5153Source path =  /home/datasets/Project_data/val ; batch size = 32\n",
      "21/21 [==============================] - 191s 9s/step - loss: 593.0806 - categorical_accuracy: 0.2232 - auc_6: 0.5153 - val_loss: 12.5904 - val_categorical_accuracy: 0.2800 - val_auc_6: 0.5501 - lr: 0.0010\n",
      "Epoch 2/5\n",
      " 8/21 [==========>...................] - ETA: 1:39 - loss: 43.3515 - categorical_accuracy: 0.2266 - auc_6: 0.5231\n",
      "Epoch 00002: saving model to model_init_2024-09-0307_03_00.027498/_2024-09-0307_40_40.299991.h5\n",
      "16/21 [=====================>........] - ETA: 38s - loss: 24.2888 - categorical_accuracy: 0.2344 - auc_6: 0.5331\n",
      "Epoch 00002: saving model to model_init_2024-09-0307_03_00.027498/_2024-09-0307_40_40.299991.h5\n",
      "21/21 [==============================] - 188s 9s/step - loss: 19.1530 - categorical_accuracy: 0.2474 - auc_6: 0.5379 - val_loss: 1.6267 - val_categorical_accuracy: 0.2700 - val_auc_6: 0.4955 - lr: 0.0010\n",
      "Epoch 3/5\n",
      " 7/21 [=========>....................] - ETA: 1:45 - loss: 1.6155 - categorical_accuracy: 0.3080 - auc_6: 0.6174\n",
      "Epoch 00003: saving model to model_init_2024-09-0307_03_00.027498/_2024-09-0307_40_40.299991.h5\n",
      "17/21 [=======================>......] - ETA: 30s - loss: 1.5451 - categorical_accuracy: 0.3640 - auc_6: 0.6531\n",
      "Epoch 00003: saving model to model_init_2024-09-0307_03_00.027498/_2024-09-0307_40_40.299991.h5\n",
      "21/21 [==============================] - 190s 9s/step - loss: 1.5129 - categorical_accuracy: 0.3771 - auc_6: 0.6703 - val_loss: 1.6034 - val_categorical_accuracy: 0.2600 - val_auc_6: 0.5678 - lr: 0.0010\n",
      "Epoch 4/5\n",
      " 6/21 [=======>......................] - ETA: 1:56 - loss: 1.2549 - categorical_accuracy: 0.4740 - auc_6: 0.8129\n",
      "Epoch 00004: saving model to model_init_2024-09-0307_03_00.027498/_2024-09-0307_40_40.299991.h5\n",
      "16/21 [=====================>........] - ETA: 38s - loss: 1.2063 - categorical_accuracy: 0.5254 - auc_6: 0.8210\n",
      "Epoch 00004: saving model to model_init_2024-09-0307_03_00.027498/_2024-09-0307_40_40.299991.h5\n",
      "21/21 [==============================] - 182s 9s/step - loss: 1.1987 - categorical_accuracy: 0.5385 - auc_6: 0.8259 - val_loss: 1.6046 - val_categorical_accuracy: 0.3400 - val_auc_6: 0.5729 - lr: 0.0010\n",
      "Epoch 5/5\n",
      " 5/21 [======>.......................] - ETA: 1:59 - loss: 0.9591 - categorical_accuracy: 0.6062 - auc_6: 0.8923\n",
      "Epoch 00005: saving model to model_init_2024-09-0307_03_00.027498/_2024-09-0307_40_40.299991.h5\n",
      "15/21 [====================>.........] - ETA: 46s - loss: 0.8449 - categorical_accuracy: 0.6896 - auc_6: 0.9188\n",
      "Epoch 00005: saving model to model_init_2024-09-0307_03_00.027498/_2024-09-0307_40_40.299991.h5\n",
      "21/21 [==============================] - 191s 10s/step - loss: 0.8483 - categorical_accuracy: 0.6938 - auc_6: 0.9182 - val_loss: 1.6525 - val_categorical_accuracy: 0.3300 - val_auc_6: 0.6058 - lr: 0.0010\n"
     ]
    },
    {
     "data": {
      "text/plain": [
       "<keras.callbacks.History at 0x7f059055cdf0>"
      ]
     },
     "execution_count": 22,
     "metadata": {},
     "output_type": "execute_result"
    }
   ],
   "source": [
    "model5.fit(train_generator, steps_per_epoch=steps_per_epoch, epochs=5, verbose=1, \n",
    "                    callbacks=getCallbacksList(model_name), validation_data=val_generator, \n",
    "                    validation_steps=validation_steps, class_weight=None, workers=1, initial_epoch=0)"
   ]
  },
  {
   "cell_type": "markdown",
   "metadata": {},
   "source": [
    "**Observations**: The model is clearly overfitting more than the Model #4"
   ]
  },
  {
   "cell_type": "markdown",
   "metadata": {},
   "source": [
    " "
   ]
  },
  {
   "cell_type": "markdown",
   "metadata": {},
   "source": [
    "#### Model 6: CNN + LSTM (include Dropouts and BatchNormalization)"
   ]
  },
  {
   "cell_type": "code",
   "execution_count": 19,
   "metadata": {},
   "outputs": [
    {
     "name": "stdout",
     "output_type": "stream",
     "text": [
      "WARNING:tensorflow:Layer lstm_2 will not use cuDNN kernels since it doesn't meet the criteria. It will use a generic GPU kernel as fallback when running on GPU.\n",
      "Model: \"sequential_5\"\n",
      "_________________________________________________________________\n",
      " Layer (type)                Output Shape              Param #   \n",
      "=================================================================\n",
      " conv3d_10 (Conv3D)          (None, 28, 98, 98, 16)    1312      \n",
      "                                                                 \n",
      " max_pooling3d_10 (MaxPoolin  (None, 14, 49, 49, 16)   0         \n",
      " g3D)                                                            \n",
      "                                                                 \n",
      " time_distributed_6 (TimeDis  (None, 14, 49, 49, 16)   0         \n",
      " tributed)                                                       \n",
      "                                                                 \n",
      " conv3d_11 (Conv3D)          (None, 12, 47, 47, 32)    13856     \n",
      "                                                                 \n",
      " max_pooling3d_11 (MaxPoolin  (None, 6, 23, 23, 32)    0         \n",
      " g3D)                                                            \n",
      "                                                                 \n",
      " time_distributed_7 (TimeDis  (None, 6, 23, 23, 32)    0         \n",
      " tributed)                                                       \n",
      "                                                                 \n",
      " time_distributed_8 (TimeDis  (None, 6, 16928)         0         \n",
      " tributed)                                                       \n",
      "                                                                 \n",
      " lstm_2 (LSTM)               (None, 128)               8733184   \n",
      "                                                                 \n",
      " dense_10 (Dense)            (None, 64)                8256      \n",
      "                                                                 \n",
      " dropout_5 (Dropout)         (None, 64)                0         \n",
      "                                                                 \n",
      " batch_normalization (BatchN  (None, 64)               256       \n",
      " ormalization)                                                   \n",
      "                                                                 \n",
      " dense_11 (Dense)            (None, 5)                 325       \n",
      "                                                                 \n",
      "=================================================================\n",
      "Total params: 8,757,189\n",
      "Trainable params: 8,757,061\n",
      "Non-trainable params: 128\n",
      "_________________________________________________________________\n"
     ]
    }
   ],
   "source": [
    "input_shape = (len(img_idx), img_size[0], img_size[1], 3)\n",
    "\n",
    "#write your model here\n",
    "model6 = Sequential()\n",
    "model6.add(Conv3D(16, kernel_size=(3,3,3), activation='relu', input_shape=input_shape))\n",
    "model6.add(MaxPooling3D(pool_size=(2, 2, 2)))\n",
    "model6.add(TimeDistributed(Dropout(0.25)))\n",
    "\n",
    "model6.add(Conv3D(32, kernel_size=(3,3,3), activation='relu'))\n",
    "model6.add(MaxPooling3D(pool_size=(2, 2, 2)))\n",
    "model6.add(TimeDistributed(Dropout(0.25)))\n",
    "\n",
    "#model6.add(TimeDistributed(BatchNormalization()))\n",
    "#model6.add(TimeDistributed(Dropout(0.1)))\n",
    "\n",
    "model6.add(TimeDistributed(Flatten()))\n",
    "\n",
    "model6.add(LSTM(128, activation='relu', return_sequences=False))\n",
    "\n",
    "model6.add(Dense(64, activation='relu'))\n",
    "model6.add(Dropout(0.1))\n",
    "model6.add(BatchNormalization())\n",
    "\n",
    "model6.add(Dense(5, activation='softmax'))\n",
    "\n",
    "model6.compile(optimizer=optimizers.Adam(lr=0.001, decay=1e-6), loss='categorical_crossentropy', metrics=['categorical_accuracy', keras.metrics.AUC()])\n",
    "model6.summary()\n",
    "\n",
    "train_generator6 = generator(train_path, train_doc, batch_size)\n",
    "val_generator6 = generator(val_path, val_doc, batch_size)"
   ]
  },
  {
   "cell_type": "code",
   "execution_count": 20,
   "metadata": {},
   "outputs": [
    {
     "name": "stdout",
     "output_type": "stream",
     "text": [
      "Source path =  /home/datasets/Project_data/train ; batch size = 32\n",
      "Epoch 1/5\n",
      " 9/21 [===========>..................] - ETA: 1:34 - loss: 2.1006 - categorical_accuracy: 0.1701 - auc_5: 0.4487\n",
      "Epoch 00001: saving model to model_init_2024-09-0307_03_00.027498/_2024-09-0307_24_34.938222.h5\n",
      "19/21 [==========================>...] - ETA: 15s - loss: 2.0223 - categorical_accuracy: 0.1612 - auc_5: 0.4530\n",
      "Epoch 00001: saving model to model_init_2024-09-0307_03_00.027498/_2024-09-0307_24_34.938222.h5\n",
      "21/21 [==============================] - ETA: 0s - loss: 2.0187 - categorical_accuracy: 0.1614 - auc_5: 0.4518Source path =  /home/datasets/Project_data/val ; batch size = 32\n",
      "21/21 [==============================] - 196s 10s/step - loss: 2.0187 - categorical_accuracy: 0.1614 - auc_5: 0.4518 - val_loss: 3.8530 - val_categorical_accuracy: 0.2100 - val_auc_5: 0.5289 - lr: 0.0010\n",
      "Epoch 2/5\n",
      " 8/21 [==========>...................] - ETA: 1:38 - loss: 1.8002 - categorical_accuracy: 0.1758 - auc_5: 0.5030\n",
      "Epoch 00002: saving model to model_init_2024-09-0307_03_00.027498/_2024-09-0307_24_34.938222.h5\n",
      "18/21 [========================>.....] - ETA: 23s - loss: 1.7406 - categorical_accuracy: 0.2257 - auc_5: 0.5381\n",
      "Epoch 00002: saving model to model_init_2024-09-0307_03_00.027498/_2024-09-0307_24_34.938222.h5\n",
      "21/21 [==============================] - 191s 10s/step - loss: 1.7489 - categorical_accuracy: 0.2247 - auc_5: 0.5316 - val_loss: 3.4606 - val_categorical_accuracy: 0.2500 - val_auc_5: 0.5789 - lr: 0.0010\n",
      "Epoch 3/5\n",
      " 7/21 [=========>....................] - ETA: 1:49 - loss: 1.7103 - categorical_accuracy: 0.2366 - auc_5: 0.5477\n",
      "Epoch 00003: saving model to model_init_2024-09-0307_03_00.027498/_2024-09-0307_24_34.938222.h5\n",
      "17/21 [=======================>......] - ETA: 33s - loss: 1.6327 - categorical_accuracy: 0.2757 - auc_5: 0.6026\n",
      "Epoch 00003: saving model to model_init_2024-09-0307_03_00.027498/_2024-09-0307_24_34.938222.h5\n",
      "21/21 [==============================] - 202s 10s/step - loss: 1.6277 - categorical_accuracy: 0.2745 - auc_5: 0.6055 - val_loss: 2.8208 - val_categorical_accuracy: 0.2100 - val_auc_5: 0.5546 - lr: 0.0010\n",
      "Epoch 4/5\n",
      " 6/21 [=======>......................] - ETA: 1:58 - loss: 1.4832 - categorical_accuracy: 0.3646 - auc_5: 0.6822\n",
      "Epoch 00004: saving model to model_init_2024-09-0307_03_00.027498/_2024-09-0307_24_34.938222.h5\n",
      "16/21 [=====================>........] - ETA: 38s - loss: 1.5343 - categorical_accuracy: 0.3281 - auc_5: 0.6498\n",
      "Epoch 00004: saving model to model_init_2024-09-0307_03_00.027498/_2024-09-0307_24_34.938222.h5\n",
      "21/21 [==============================] - 181s 9s/step - loss: 1.5250 - categorical_accuracy: 0.3288 - auc_5: 0.6553 - val_loss: 1.9201 - val_categorical_accuracy: 0.2500 - val_auc_5: 0.5958 - lr: 0.0010\n",
      "Epoch 5/5\n",
      " 5/21 [======>.......................] - ETA: 2:05 - loss: 1.4793 - categorical_accuracy: 0.3562 - auc_5: 0.6899\n",
      "Epoch 00005: saving model to model_init_2024-09-0307_03_00.027498/_2024-09-0307_24_34.938222.h5\n",
      "15/21 [====================>.........] - ETA: 45s - loss: 1.4838 - categorical_accuracy: 0.3333 - auc_5: 0.6820\n",
      "Epoch 00005: saving model to model_init_2024-09-0307_03_00.027498/_2024-09-0307_24_34.938222.h5\n",
      "21/21 [==============================] - 187s 9s/step - loss: 1.4890 - categorical_accuracy: 0.3288 - auc_5: 0.6775 - val_loss: 2.0467 - val_categorical_accuracy: 0.1900 - val_auc_5: 0.6031 - lr: 0.0010\n"
     ]
    },
    {
     "data": {
      "text/plain": [
       "<keras.callbacks.History at 0x7f05cacde7f0>"
      ]
     },
     "execution_count": 20,
     "metadata": {},
     "output_type": "execute_result"
    }
   ],
   "source": [
    "model6.fit(train_generator6, steps_per_epoch=steps_per_epoch, epochs=5, verbose=1, \n",
    "                    callbacks=getCallbacksList(model_name), validation_data=val_generator6, \n",
    "                    validation_steps=validation_steps, class_weight=None, workers=1, initial_epoch=0)"
   ]
  },
  {
   "cell_type": "markdown",
   "metadata": {},
   "source": [
    "**Observations**: The model is overfitting. The validation accuracy is not steadily rising and the AUC of 0.6 is not good either."
   ]
  },
  {
   "cell_type": "markdown",
   "metadata": {},
   "source": []
  },
  {
   "cell_type": "markdown",
   "metadata": {},
   "source": [
    "#### Model 7: CNN + LSTM (different dropouts)"
   ]
  },
  {
   "cell_type": "code",
   "execution_count": 23,
   "metadata": {},
   "outputs": [
    {
     "name": "stdout",
     "output_type": "stream",
     "text": [
      "WARNING:tensorflow:Layer lstm_4 will not use cuDNN kernels since it doesn't meet the criteria. It will use a generic GPU kernel as fallback when running on GPU.\n",
      "Model: \"sequential_7\"\n",
      "_________________________________________________________________\n",
      " Layer (type)                Output Shape              Param #   \n",
      "=================================================================\n",
      " conv3d_14 (Conv3D)          (None, 28, 98, 98, 16)    1312      \n",
      "                                                                 \n",
      " time_distributed_12 (TimeDi  (None, 28, 98, 98, 16)   64        \n",
      " stributed)                                                      \n",
      "                                                                 \n",
      " max_pooling3d_14 (MaxPoolin  (None, 14, 49, 49, 16)   0         \n",
      " g3D)                                                            \n",
      "                                                                 \n",
      " conv3d_15 (Conv3D)          (None, 12, 47, 47, 32)    13856     \n",
      "                                                                 \n",
      " time_distributed_13 (TimeDi  (None, 12, 47, 47, 32)   128       \n",
      " stributed)                                                      \n",
      "                                                                 \n",
      " max_pooling3d_15 (MaxPoolin  (None, 6, 23, 23, 32)    0         \n",
      " g3D)                                                            \n",
      "                                                                 \n",
      " time_distributed_14 (TimeDi  (None, 6, 16928)         0         \n",
      " stributed)                                                      \n",
      "                                                                 \n",
      " lstm_4 (LSTM)               (None, 128)               8733184   \n",
      "                                                                 \n",
      " dropout_9 (Dropout)         (None, 128)               0         \n",
      "                                                                 \n",
      " dense_14 (Dense)            (None, 64)                8256      \n",
      "                                                                 \n",
      " dense_15 (Dense)            (None, 5)                 325       \n",
      "                                                                 \n",
      "=================================================================\n",
      "Total params: 8,757,125\n",
      "Trainable params: 8,757,029\n",
      "Non-trainable params: 96\n",
      "_________________________________________________________________\n"
     ]
    }
   ],
   "source": [
    "input_shape = (len(img_idx), img_size[0], img_size[1], 3)\n",
    "\n",
    "#write your model here\n",
    "model7 = Sequential()\n",
    "model7.add(Conv3D(16, kernel_size=(3,3,3), activation='relu', input_shape=input_shape))\n",
    "model7.add(TimeDistributed(BatchNormalization()))\n",
    "model7.add(MaxPooling3D(pool_size=(2, 2, 2)))\n",
    "\n",
    "model7.add(Conv3D(32, kernel_size=(3,3,3), activation='relu'))\n",
    "model7.add(TimeDistributed(BatchNormalization()))\n",
    "model7.add(MaxPooling3D(pool_size=(2, 2, 2)))\n",
    "\n",
    "model7.add(TimeDistributed(Flatten()))\n",
    "\n",
    "model7.add(LSTM(128, activation='relu', return_sequences=False))\n",
    "model7.add(Dropout(0.1))\n",
    "\n",
    "model7.add(Dense(64, activation='relu'))\n",
    "\n",
    "model7.add(Dense(5, activation='softmax'))\n",
    "\n",
    "model7.compile(optimizer=optimizers.Adam(lr=0.001, decay=1e-6), loss='categorical_crossentropy', metrics=['categorical_accuracy', keras.metrics.AUC()])\n",
    "model7.summary()\n",
    "\n",
    "train_generator7 = generator(train_path, train_doc, batch_size)\n",
    "val_generator7 = generator(val_path, val_doc, batch_size)\n"
   ]
  },
  {
   "cell_type": "code",
   "execution_count": 24,
   "metadata": {},
   "outputs": [
    {
     "name": "stdout",
     "output_type": "stream",
     "text": [
      "Source path =  /home/datasets/Project_data/train ; batch size = 32\n",
      "Epoch 1/5\n",
      " 9/21 [===========>..................] - ETA: 1:28 - loss: 11.1451 - categorical_accuracy: 0.3715 - auc_7: 0.6380\n",
      "Epoch 00001: saving model to model_init_2024-09-0307_03_00.027498/_2024-09-0308_04_59.058170.h5\n",
      "19/21 [==========================>...] - ETA: 15s - loss: 8.5232 - categorical_accuracy: 0.3997 - auc_7: 0.6670\n",
      "Epoch 00001: saving model to model_init_2024-09-0307_03_00.027498/_2024-09-0308_04_59.058170.h5\n",
      "21/21 [==============================] - ETA: 0s - loss: 8.2947 - categorical_accuracy: 0.4012 - auc_7: 0.6716Source path =  /home/datasets/Project_data/val ; batch size = 32\n",
      "21/21 [==============================] - 193s 10s/step - loss: 8.2947 - categorical_accuracy: 0.4012 - auc_7: 0.6716 - val_loss: 65.6183 - val_categorical_accuracy: 0.2400 - val_auc_7: 0.5395 - lr: 0.0010\n",
      "Epoch 2/5\n",
      " 8/21 [==========>...................] - ETA: 1:36 - loss: 3.3596 - categorical_accuracy: 0.4609 - auc_7: 0.7622\n",
      "Epoch 00002: saving model to model_init_2024-09-0307_03_00.027498/_2024-09-0308_04_59.058170.h5\n",
      "18/21 [========================>.....] - ETA: 23s - loss: 3.7113 - categorical_accuracy: 0.4497 - auc_7: 0.7450\n",
      "Epoch 00002: saving model to model_init_2024-09-0307_03_00.027498/_2024-09-0308_04_59.058170.h5\n",
      "21/21 [==============================] - 191s 10s/step - loss: 3.6022 - categorical_accuracy: 0.4600 - auc_7: 0.7494 - val_loss: 9.5812 - val_categorical_accuracy: 0.3400 - val_auc_7: 0.5926 - lr: 0.0010\n",
      "Epoch 3/5\n",
      " 7/21 [=========>....................] - ETA: 1:43 - loss: 1.7220 - categorical_accuracy: 0.4688 - auc_7: 0.7823\n",
      "Epoch 00003: saving model to model_init_2024-09-0307_03_00.027498/_2024-09-0308_04_59.058170.h5\n",
      "17/21 [=======================>......] - ETA: 29s - loss: 1.7751 - categorical_accuracy: 0.5000 - auc_7: 0.7877\n",
      "Epoch 00003: saving model to model_init_2024-09-0307_03_00.027498/_2024-09-0308_04_59.058170.h5\n",
      "21/21 [==============================] - 188s 9s/step - loss: 1.7097 - categorical_accuracy: 0.4977 - auc_7: 0.7905 - val_loss: 5.2268 - val_categorical_accuracy: 0.2200 - val_auc_7: 0.5195 - lr: 0.0010\n",
      "Epoch 4/5\n",
      " 6/21 [=======>......................] - ETA: 1:58 - loss: 1.9282 - categorical_accuracy: 0.5156 - auc_7: 0.8061\n",
      "Epoch 00004: saving model to model_init_2024-09-0307_03_00.027498/_2024-09-0308_04_59.058170.h5\n",
      "16/21 [=====================>........] - ETA: 40s - loss: 1.4400 - categorical_accuracy: 0.5742 - auc_7: 0.8403\n",
      "Epoch 00004: saving model to model_init_2024-09-0307_03_00.027498/_2024-09-0308_04_59.058170.h5\n",
      "21/21 [==============================] - 188s 9s/step - loss: 1.3626 - categorical_accuracy: 0.5897 - auc_7: 0.8508 - val_loss: 7.2090 - val_categorical_accuracy: 0.2300 - val_auc_7: 0.5367 - lr: 0.0010\n",
      "Epoch 5/5\n",
      " 5/21 [======>.......................] - ETA: 2:13 - loss: 0.8999 - categorical_accuracy: 0.6875 - auc_7: 0.9022\n",
      "Epoch 00005: saving model to model_init_2024-09-0307_03_00.027498/_2024-09-0308_04_59.058170.h5\n",
      "15/21 [====================>.........] - ETA: 48s - loss: 1.0716 - categorical_accuracy: 0.6729 - auc_7: 0.8927\n",
      "Epoch 00005: saving model to model_init_2024-09-0307_03_00.027498/_2024-09-0308_04_59.058170.h5\n",
      "21/21 [==============================] - 193s 10s/step - loss: 1.0747 - categorical_accuracy: 0.6682 - auc_7: 0.8974 - val_loss: 4.6481 - val_categorical_accuracy: 0.2200 - val_auc_7: 0.5581 - lr: 0.0010\n"
     ]
    },
    {
     "data": {
      "text/plain": [
       "<keras.callbacks.History at 0x7f0591912040>"
      ]
     },
     "execution_count": 24,
     "metadata": {},
     "output_type": "execute_result"
    }
   ],
   "source": [
    "callbacks_list7 = [createModelCheckPoint(model_name)]\n",
    "model7.fit(train_generator7, steps_per_epoch=steps_per_epoch, epochs=5, verbose=1, \n",
    "                    callbacks=getCallbacksList(model_name), validation_data=val_generator7, \n",
    "                    validation_steps=validation_steps, class_weight=None, workers=1, initial_epoch=0)"
   ]
  },
  {
   "cell_type": "markdown",
   "metadata": {},
   "source": [
    "**Observations**: The model overfitting. In term of validation, eEven after 5 Epochs, the model is doing slightly well than a random guess."
   ]
  },
  {
   "cell_type": "markdown",
   "metadata": {},
   "source": []
  },
  {
   "cell_type": "markdown",
   "metadata": {},
   "source": [
    "#### Model 8: LSTM with Batch Normalization and extra convolution layers"
   ]
  },
  {
   "cell_type": "code",
   "execution_count": 27,
   "metadata": {},
   "outputs": [
    {
     "name": "stdout",
     "output_type": "stream",
     "text": [
      "WARNING:tensorflow:Layer lstm_6 will not use cuDNN kernels since it doesn't meet the criteria. It will use a generic GPU kernel as fallback when running on GPU.\n",
      "Model: \"sequential_9\"\n",
      "_________________________________________________________________\n",
      " Layer (type)                Output Shape              Param #   \n",
      "=================================================================\n",
      " conv3d_20 (Conv3D)          (None, 28, 98, 98, 16)    1312      \n",
      "                                                                 \n",
      " time_distributed_20 (TimeDi  (None, 28, 98, 98, 16)   64        \n",
      " stributed)                                                      \n",
      "                                                                 \n",
      " max_pooling3d_20 (MaxPoolin  (None, 14, 49, 49, 16)   0         \n",
      " g3D)                                                            \n",
      "                                                                 \n",
      " conv3d_21 (Conv3D)          (None, 12, 47, 47, 32)    13856     \n",
      "                                                                 \n",
      " time_distributed_21 (TimeDi  (None, 12, 47, 47, 32)   128       \n",
      " stributed)                                                      \n",
      "                                                                 \n",
      " max_pooling3d_21 (MaxPoolin  (None, 6, 23, 23, 32)    0         \n",
      " g3D)                                                            \n",
      "                                                                 \n",
      " conv3d_22 (Conv3D)          (None, 4, 21, 21, 64)     55360     \n",
      "                                                                 \n",
      " time_distributed_22 (TimeDi  (None, 4, 21, 21, 64)    256       \n",
      " stributed)                                                      \n",
      "                                                                 \n",
      " max_pooling3d_22 (MaxPoolin  (None, 2, 11, 11, 64)    0         \n",
      " g3D)                                                            \n",
      "                                                                 \n",
      " conv3d_23 (Conv3D)          (None, 2, 11, 11, 128)    221312    \n",
      "                                                                 \n",
      " time_distributed_23 (TimeDi  (None, 2, 11, 11, 128)   512       \n",
      " stributed)                                                      \n",
      "                                                                 \n",
      " max_pooling3d_23 (MaxPoolin  (None, 1, 6, 6, 128)     0         \n",
      " g3D)                                                            \n",
      "                                                                 \n",
      " time_distributed_24 (TimeDi  (None, 1, 4608)          0         \n",
      " stributed)                                                      \n",
      "                                                                 \n",
      " lstm_6 (LSTM)               (None, 128)               2425344   \n",
      "                                                                 \n",
      " dropout_12 (Dropout)        (None, 128)               0         \n",
      "                                                                 \n",
      " dense_18 (Dense)            (None, 64)                8256      \n",
      "                                                                 \n",
      " dropout_13 (Dropout)        (None, 64)                0         \n",
      "                                                                 \n",
      " dense_19 (Dense)            (None, 5)                 325       \n",
      "                                                                 \n",
      "=================================================================\n",
      "Total params: 2,726,725\n",
      "Trainable params: 2,726,245\n",
      "Non-trainable params: 480\n",
      "_________________________________________________________________\n"
     ]
    }
   ],
   "source": [
    "input_shape = (len(img_idx), img_size[0], img_size[1], 3)\n",
    "\n",
    "#write your model here\n",
    "model8 = Sequential()\n",
    "model8.add(Conv3D(16, kernel_size=(3,3,3), activation='relu', input_shape=input_shape))\n",
    "model8.add(TimeDistributed(BatchNormalization()))\n",
    "model8.add(MaxPooling3D(pool_size=(2, 2, 2)))\n",
    "\n",
    "model8.add(Conv3D(32, kernel_size=(3,3,3), activation='relu'))\n",
    "model8.add(TimeDistributed(BatchNormalization()))\n",
    "model8.add(MaxPooling3D(pool_size=(2, 2, 2)))\n",
    "\n",
    "model8.add(Conv3D(64, kernel_size=(3,3,3), activation='relu'))\n",
    "model8.add(TimeDistributed(BatchNormalization()))\n",
    "model8.add(MaxPooling3D(pool_size=(2, 2, 2), padding='same'))\n",
    "\n",
    "model8.add(Conv3D(128, kernel_size=(3,3,3), activation='relu', padding='same'))\n",
    "model8.add(TimeDistributed(BatchNormalization()))\n",
    "model8.add(MaxPooling3D(pool_size=(2, 2, 2), padding='same'))\n",
    "\n",
    "model8.add(TimeDistributed(Flatten()))\n",
    "\n",
    "model8.add(LSTM(128, activation='relu', return_sequences=False))\n",
    "model8.add(Dropout(0.25))\n",
    "\n",
    "model8.add(Dense(64, activation='relu'))\n",
    "model8.add(Dropout(0.25))\n",
    "\n",
    "model8.add(Dense(5, activation='softmax'))\n",
    "\n",
    "model8.compile(optimizer=optimizers.Adam(lr=0.001, decay=1e-6), loss='categorical_crossentropy', metrics=['categorical_accuracy', keras.metrics.AUC()])\n",
    "model8.summary()\n",
    "\n",
    "train_generator8 = generator(train_path, train_doc, batch_size)\n",
    "val_generator8 = generator(val_path, val_doc, batch_size)\n"
   ]
  },
  {
   "cell_type": "code",
   "execution_count": 28,
   "metadata": {},
   "outputs": [
    {
     "name": "stdout",
     "output_type": "stream",
     "text": [
      "Source path =  /home/datasets/Project_data/train ; batch size = 32\n",
      "Epoch 1/5\n",
      " 9/21 [===========>..................] - ETA: 1:32 - loss: 2.2185 - categorical_accuracy: 0.3021 - auc_9: 0.6569\n",
      "Epoch 00001: saving model to model_init_2024-09-0307_03_00.027498/_2024-09-0308_44_00.470019.h5\n",
      "19/21 [==========================>...] - ETA: 15s - loss: 1.8734 - categorical_accuracy: 0.3618 - auc_9: 0.6842\n",
      "Epoch 00001: saving model to model_init_2024-09-0307_03_00.027498/_2024-09-0308_44_00.470019.h5\n",
      "21/21 [==============================] - ETA: 0s - loss: 1.8200 - categorical_accuracy: 0.3680 - auc_9: 0.6942Source path =  /home/datasets/Project_data/val ; batch size = 32\n",
      "21/21 [==============================] - 191s 9s/step - loss: 1.8200 - categorical_accuracy: 0.3680 - auc_9: 0.6942 - val_loss: 45.5295 - val_categorical_accuracy: 0.2200 - val_auc_9: 0.5125 - lr: 0.0010\n",
      "Epoch 2/5\n",
      " 8/21 [==========>...................] - ETA: 1:45 - loss: 1.5315 - categorical_accuracy: 0.4336 - auc_9: 0.7751\n",
      "Epoch 00002: saving model to model_init_2024-09-0307_03_00.027498/_2024-09-0308_44_00.470019.h5\n",
      "18/21 [========================>.....] - ETA: 23s - loss: 1.4374 - categorical_accuracy: 0.4497 - auc_9: 0.7790\n",
      "Epoch 00002: saving model to model_init_2024-09-0307_03_00.027498/_2024-09-0308_44_00.470019.h5\n",
      "21/21 [==============================] - 192s 10s/step - loss: 1.4176 - categorical_accuracy: 0.4540 - auc_9: 0.7802 - val_loss: 6.2385 - val_categorical_accuracy: 0.2500 - val_auc_9: 0.5527 - lr: 0.0010\n",
      "Epoch 3/5\n",
      " 7/21 [=========>....................] - ETA: 1:58 - loss: 1.1400 - categorical_accuracy: 0.4643 - auc_9: 0.8269\n",
      "Epoch 00003: saving model to model_init_2024-09-0307_03_00.027498/_2024-09-0308_44_00.470019.h5\n",
      "17/21 [=======================>......] - ETA: 30s - loss: 1.0821 - categorical_accuracy: 0.5018 - auc_9: 0.8459\n",
      "Epoch 00003: saving model to model_init_2024-09-0307_03_00.027498/_2024-09-0308_44_00.470019.h5\n",
      "21/21 [==============================] - 191s 10s/step - loss: 1.0852 - categorical_accuracy: 0.5113 - auc_9: 0.8461 - val_loss: 8.2365 - val_categorical_accuracy: 0.1900 - val_auc_9: 0.4695 - lr: 0.0010\n",
      "Epoch 4/5\n",
      " 6/21 [=======>......................] - ETA: 1:54 - loss: 0.9954 - categorical_accuracy: 0.5885 - auc_9: 0.8757\n",
      "Epoch 00004: saving model to model_init_2024-09-0307_03_00.027498/_2024-09-0308_44_00.470019.h5\n",
      "16/21 [=====================>........] - ETA: 37s - loss: 1.0380 - categorical_accuracy: 0.5820 - auc_9: 0.8669\n",
      "Epoch 00004: saving model to model_init_2024-09-0307_03_00.027498/_2024-09-0308_44_00.470019.h5\n",
      "21/21 [==============================] - 178s 9s/step - loss: 1.0853 - categorical_accuracy: 0.5656 - auc_9: 0.8561 - val_loss: 2.5240 - val_categorical_accuracy: 0.2700 - val_auc_9: 0.6245 - lr: 0.0010\n",
      "Epoch 5/5\n",
      " 5/21 [======>.......................] - ETA: 2:02 - loss: 0.9900 - categorical_accuracy: 0.5875 - auc_9: 0.8778\n",
      "Epoch 00005: saving model to model_init_2024-09-0307_03_00.027498/_2024-09-0308_44_00.470019.h5\n",
      "15/21 [====================>.........] - ETA: 46s - loss: 0.9016 - categorical_accuracy: 0.6208 - auc_9: 0.8972\n",
      "Epoch 00005: saving model to model_init_2024-09-0307_03_00.027498/_2024-09-0308_44_00.470019.h5\n",
      "21/21 [==============================] - 190s 10s/step - loss: 0.9455 - categorical_accuracy: 0.6124 - auc_9: 0.8895 - val_loss: 2.2921 - val_categorical_accuracy: 0.2900 - val_auc_9: 0.6454 - lr: 0.0010\n"
     ]
    },
    {
     "data": {
      "text/plain": [
       "<keras.callbacks.History at 0x7f059016d040>"
      ]
     },
     "execution_count": 28,
     "metadata": {},
     "output_type": "execute_result"
    }
   ],
   "source": [
    "model8.fit(train_generator8, steps_per_epoch=steps_per_epoch, epochs=5, verbose=1, \n",
    "                    callbacks=getCallbacksList(model_name), validation_data=val_generator8,\n",
    "                    validation_steps=validation_steps, class_weight=None, workers=1, initial_epoch=0)"
   ]
  },
  {
   "cell_type": "markdown",
   "metadata": {},
   "source": [
    "**Observations**: The model is overfitting. The validation accuracy is not steadily rising and the validation AUC of 0.65 is not good either. But the validation accuracy is steadily rising."
   ]
  },
  {
   "cell_type": "markdown",
   "metadata": {},
   "source": [
    "  "
   ]
  },
  {
   "cell_type": "markdown",
   "metadata": {},
   "source": [
    "#### Model 9: CNN + LSTM (with 25 Epochs)"
   ]
  },
  {
   "cell_type": "code",
   "execution_count": 17,
   "metadata": {},
   "outputs": [
    {
     "name": "stdout",
     "output_type": "stream",
     "text": [
      "WARNING:tensorflow:Layer lstm_1 will not use cuDNN kernels since it doesn't meet the criteria. It will use a generic GPU kernel as fallback when running on GPU.\n",
      "Model: \"sequential_4\"\n",
      "_________________________________________________________________\n",
      " Layer (type)                Output Shape              Param #   \n",
      "=================================================================\n",
      " conv3d_8 (Conv3D)           (None, 28, 98, 98, 16)    1312      \n",
      "                                                                 \n",
      " max_pooling3d_8 (MaxPooling  (None, 14, 49, 49, 16)   0         \n",
      " 3D)                                                             \n",
      "                                                                 \n",
      " conv3d_9 (Conv3D)           (None, 12, 47, 47, 32)    13856     \n",
      "                                                                 \n",
      " max_pooling3d_9 (MaxPooling  (None, 6, 23, 23, 32)    0         \n",
      " 3D)                                                             \n",
      "                                                                 \n",
      " time_distributed_3 (TimeDis  (None, 6, 16928)         0         \n",
      " tributed)                                                       \n",
      "                                                                 \n",
      " lstm_1 (LSTM)               (None, 128)               8733184   \n",
      "                                                                 \n",
      " dense_8 (Dense)             (None, 64)                8256      \n",
      "                                                                 \n",
      " dense_9 (Dense)             (None, 5)                 325       \n",
      "                                                                 \n",
      "=================================================================\n",
      "Total params: 8,756,933\n",
      "Trainable params: 8,756,933\n",
      "Non-trainable params: 0\n",
      "_________________________________________________________________\n"
     ]
    }
   ],
   "source": [
    "from tensorflow.keras.layers import LSTM\n",
    "\n",
    "input_shape = (len(img_idx), img_size[0], img_size[1], 3)\n",
    "\n",
    "#write your model here\n",
    "model9 = Sequential()\n",
    "model9.add(Conv3D(16, kernel_size=(3,3,3), activation='relu', input_shape=input_shape))\n",
    "model9.add(MaxPooling3D(pool_size=(2, 2, 2)))\n",
    "\n",
    "model9.add(Conv3D(32, kernel_size=(3,3,3), activation='relu'))\n",
    "model9.add(MaxPooling3D(pool_size=(2, 2, 2)))\n",
    "\n",
    "model9.add(TimeDistributed(Flatten()))\n",
    "\n",
    "model9.add(LSTM(128, activation='relu', return_sequences=False))\n",
    "\n",
    "model9.add(Dense(64, activation='relu'))\n",
    "model9.add(Dense(5, activation='softmax'))\n",
    "\n",
    "model9.compile(optimizer=optimizers.Adam(lr=0.001, decay=1e-6), loss='categorical_crossentropy', metrics=['categorical_accuracy', keras.metrics.AUC()])\n",
    "model9.summary()\n",
    "\n",
    "train_generator9 = generator(train_path, train_doc, batch_size)\n",
    "val_generator9 = generator(val_path, val_doc, batch_size)\n"
   ]
  },
  {
   "cell_type": "code",
   "execution_count": 19,
   "metadata": {},
   "outputs": [
    {
     "name": "stdout",
     "output_type": "stream",
     "text": [
      "Source path =  /home/datasets/Project_data/train ; batch size = 32\n",
      "Epoch 1/25\n"
     ]
    },
    {
     "name": "stderr",
     "output_type": "stream",
     "text": [
      "2024-09-03 11:10:29.009127: I tensorflow/stream_executor/cuda/cuda_dnn.cc:377] Loaded cuDNN version 8302\n"
     ]
    },
    {
     "name": "stdout",
     "output_type": "stream",
     "text": [
      " 9/21 [===========>..................] - ETA: 1:32 - loss: 311.1915 - categorical_accuracy: 0.2014 - auc_4: 0.5060\n",
      "Epoch 00001: saving model to model_init_2024-09-0311_04_42.748306/_2024-09-0311_10_18.429137.h5\n",
      "19/21 [==========================>...] - ETA: 16s - loss: 162.3830 - categorical_accuracy: 0.2484 - auc_4: 0.5368\n",
      "Epoch 00001: saving model to model_init_2024-09-0311_04_42.748306/_2024-09-0311_10_18.429137.h5\n",
      "21/21 [==============================] - ETA: 0s - loss: 149.7681 - categorical_accuracy: 0.2534 - auc_4: 0.5393Source path =  /home/datasets/Project_data/val ; batch size = 32\n",
      "21/21 [==============================] - 207s 10s/step - loss: 149.7681 - categorical_accuracy: 0.2534 - auc_4: 0.5393 - val_loss: 6.9573 - val_categorical_accuracy: 0.2800 - val_auc_4: 0.5579 - lr: 0.0010\n",
      "Epoch 2/25\n",
      " 8/21 [==========>...................] - ETA: 1:48 - loss: 4.9509 - categorical_accuracy: 0.3281 - auc_4: 0.6135\n",
      "Epoch 00002: saving model to model_init_2024-09-0311_04_42.748306/_2024-09-0311_10_18.429137.h5\n",
      "18/21 [========================>.....] - ETA: 24s - loss: 4.1852 - categorical_accuracy: 0.3264 - auc_4: 0.6253\n",
      "Epoch 00002: saving model to model_init_2024-09-0311_04_42.748306/_2024-09-0311_10_18.429137.h5\n",
      "21/21 [==============================] - 205s 10s/step - loss: 3.9737 - categorical_accuracy: 0.3273 - auc_4: 0.6249 - val_loss: 2.0817 - val_categorical_accuracy: 0.3300 - val_auc_4: 0.6511 - lr: 0.0010\n",
      "Epoch 3/25\n",
      " 7/21 [=========>....................] - ETA: 1:50 - loss: 2.0279 - categorical_accuracy: 0.3929 - auc_4: 0.6941\n",
      "Epoch 00003: saving model to model_init_2024-09-0311_04_42.748306/_2024-09-0311_10_18.429137.h5\n",
      "17/21 [=======================>......] - ETA: 31s - loss: 1.7329 - categorical_accuracy: 0.4246 - auc_4: 0.7262\n",
      "Epoch 00003: saving model to model_init_2024-09-0311_04_42.748306/_2024-09-0311_10_18.429137.h5\n",
      "21/21 [==============================] - 198s 10s/step - loss: 1.6792 - categorical_accuracy: 0.4268 - auc_4: 0.7336 - val_loss: 1.7017 - val_categorical_accuracy: 0.4700 - val_auc_4: 0.7041 - lr: 0.0010\n",
      "Epoch 4/25\n",
      " 6/21 [=======>......................] - ETA: 2:00 - loss: 1.2783 - categorical_accuracy: 0.5104 - auc_4: 0.8076\n",
      "Epoch 00004: saving model to model_init_2024-09-0311_04_42.748306/_2024-09-0311_10_18.429137.h5\n",
      "16/21 [=====================>........] - ETA: 39s - loss: 1.2148 - categorical_accuracy: 0.5586 - auc_4: 0.8339\n",
      "Epoch 00004: saving model to model_init_2024-09-0311_04_42.748306/_2024-09-0311_10_18.429137.h5\n",
      "21/21 [==============================] - 188s 9s/step - loss: 1.1396 - categorical_accuracy: 0.5792 - auc_4: 0.8499 - val_loss: 1.8890 - val_categorical_accuracy: 0.4000 - val_auc_4: 0.7026 - lr: 0.0010\n",
      "Epoch 5/25\n",
      " 5/21 [======>.......................] - ETA: 2:11 - loss: 0.7356 - categorical_accuracy: 0.7312 - auc_4: 0.9322\n",
      "Epoch 00005: saving model to model_init_2024-09-0311_04_42.748306/_2024-09-0311_10_18.429137.h5\n",
      "15/21 [====================>.........] - ETA: 48s - loss: 0.7496 - categorical_accuracy: 0.7250 - auc_4: 0.9302\n",
      "Epoch 00005: saving model to model_init_2024-09-0311_04_42.748306/_2024-09-0311_10_18.429137.h5\n",
      "21/21 [==============================] - 198s 10s/step - loss: 0.7196 - categorical_accuracy: 0.7315 - auc_4: 0.9353 - val_loss: 1.7308 - val_categorical_accuracy: 0.5100 - val_auc_4: 0.7545 - lr: 0.0010\n",
      "Epoch 6/25\n",
      " 4/21 [====>.........................] - ETA: 2:04 - loss: 0.5202 - categorical_accuracy: 0.8281 - auc_4: 0.9681\n",
      "Epoch 00006: saving model to model_init_2024-09-0311_04_42.748306/_2024-09-0311_10_18.429137.h5\n",
      "14/21 [===================>..........] - ETA: 55s - loss: 0.4994 - categorical_accuracy: 0.8304 - auc_4: 0.9724 \n",
      "Epoch 00006: saving model to model_init_2024-09-0311_04_42.748306/_2024-09-0311_10_18.429137.h5\n",
      "21/21 [==============================] - 199s 10s/step - loss: 0.4887 - categorical_accuracy: 0.8326 - auc_4: 0.9733 - val_loss: 1.7159 - val_categorical_accuracy: 0.5000 - val_auc_4: 0.7935 - lr: 0.0010\n",
      "Epoch 7/25\n",
      " 3/21 [===>..........................] - ETA: 2:35 - loss: 0.3616 - categorical_accuracy: 0.9479 - auc_4: 0.9876\n",
      "Epoch 00007: saving model to model_init_2024-09-0311_04_42.748306/_2024-09-0311_10_18.429137.h5\n",
      "13/21 [=================>............] - ETA: 1:04 - loss: 0.3391 - categorical_accuracy: 0.9062 - auc_4: 0.9879\n",
      "Epoch 00007: saving model to model_init_2024-09-0311_04_42.748306/_2024-09-0311_10_18.429137.h5\n",
      "21/21 [==============================] - 201s 10s/step - loss: 0.3425 - categorical_accuracy: 0.9005 - auc_4: 0.9874 - val_loss: 1.8643 - val_categorical_accuracy: 0.5500 - val_auc_4: 0.7795 - lr: 0.0010\n",
      "Epoch 8/25\n",
      " 2/21 [=>............................] - ETA: 2:49 - loss: 0.2328 - categorical_accuracy: 0.8906 - auc_4: 0.9947\n",
      "Epoch 00008: saving model to model_init_2024-09-0311_04_42.748306/_2024-09-0311_10_18.429137.h5\n",
      "12/21 [================>.............] - ETA: 1:15 - loss: 0.2518 - categorical_accuracy: 0.9297 - auc_4: 0.9945\n",
      "Epoch 00008: saving model to model_init_2024-09-0311_04_42.748306/_2024-09-0311_10_18.429137.h5\n",
      "21/21 [==============================] - 195s 10s/step - loss: 0.2468 - categorical_accuracy: 0.9276 - auc_4: 0.9948 - val_loss: 1.9807 - val_categorical_accuracy: 0.5000 - val_auc_4: 0.7755 - lr: 0.0010\n",
      "Epoch 9/25\n",
      " 1/21 [>.............................] - ETA: 4s - loss: 0.1159 - categorical_accuracy: 0.9688 - auc_4: 0.9998\n",
      "Epoch 00009: saving model to model_init_2024-09-0311_04_42.748306/_2024-09-0311_10_18.429137.h5\n",
      "11/21 [==============>...............] - ETA: 1:19 - loss: 0.1314 - categorical_accuracy: 0.9744 - auc_4: 0.9992\n",
      "Epoch 00009: saving model to model_init_2024-09-0311_04_42.748306/_2024-09-0311_10_18.429137.h5\n",
      "21/21 [==============================] - 200s 10s/step - loss: 0.1500 - categorical_accuracy: 0.9668 - auc_4: 0.9983 - val_loss: 2.1433 - val_categorical_accuracy: 0.5000 - val_auc_4: 0.7789 - lr: 0.0010\n",
      "Epoch 10/25\n",
      "\n",
      "Epoch 00010: saving model to model_init_2024-09-0311_04_42.748306/_2024-09-0311_10_18.429137.h5\n",
      "10/21 [=============>................] - ETA: 1:30 - loss: 0.1020 - categorical_accuracy: 0.9812 - auc_4: 0.9997\n",
      "Epoch 00010: saving model to model_init_2024-09-0311_04_42.748306/_2024-09-0311_10_18.429137.h5\n",
      "20/21 [===========================>..] - ETA: 8s - loss: 0.0994 - categorical_accuracy: 0.9812 - auc_4: 0.9997 \n",
      "Epoch 00010: saving model to model_init_2024-09-0311_04_42.748306/_2024-09-0311_10_18.429137.h5\n",
      "21/21 [==============================] - 202s 10s/step - loss: 0.0978 - categorical_accuracy: 0.9819 - auc_4: 0.9997 - val_loss: 2.3444 - val_categorical_accuracy: 0.5300 - val_auc_4: 0.8004 - lr: 0.0010\n",
      "Epoch 11/25\n",
      " 9/21 [===========>..................] - ETA: 1:38 - loss: 0.0613 - categorical_accuracy: 0.9965 - auc_4: 1.0000\n",
      "Epoch 00011: saving model to model_init_2024-09-0311_04_42.748306/_2024-09-0311_10_18.429137.h5\n",
      "19/21 [==========================>...] - ETA: 15s - loss: 0.0640 - categorical_accuracy: 0.9918 - auc_4: 0.9999\n",
      "Epoch 00011: saving model to model_init_2024-09-0311_04_42.748306/_2024-09-0311_10_18.429137.h5\n",
      "21/21 [==============================] - 196s 10s/step - loss: 0.0622 - categorical_accuracy: 0.9925 - auc_4: 0.9999 - val_loss: 2.3083 - val_categorical_accuracy: 0.5800 - val_auc_4: 0.8005 - lr: 0.0010\n",
      "Epoch 12/25\n",
      " 8/21 [==========>...................] - ETA: 1:41 - loss: 0.0472 - categorical_accuracy: 1.0000 - auc_4: 1.0000\n",
      "Epoch 00012: saving model to model_init_2024-09-0311_04_42.748306/_2024-09-0311_10_18.429137.h5\n",
      "18/21 [========================>.....] - ETA: 23s - loss: 0.0411 - categorical_accuracy: 1.0000 - auc_4: 1.0000\n",
      "Epoch 00012: saving model to model_init_2024-09-0311_04_42.748306/_2024-09-0311_10_18.429137.h5\n",
      "21/21 [==============================] - 188s 9s/step - loss: 0.0401 - categorical_accuracy: 1.0000 - auc_4: 1.0000 - val_loss: 2.3402 - val_categorical_accuracy: 0.5100 - val_auc_4: 0.7920 - lr: 0.0010\n",
      "Epoch 13/25\n",
      " 7/21 [=========>....................] - ETA: 1:48 - loss: 0.0276 - categorical_accuracy: 1.0000 - auc_4: 1.0000\n",
      "Epoch 00013: saving model to model_init_2024-09-0311_04_42.748306/_2024-09-0311_10_18.429137.h5\n",
      "17/21 [=======================>......] - ETA: 31s - loss: 0.0256 - categorical_accuracy: 1.0000 - auc_4: 1.0000\n",
      "Epoch 00013: saving model to model_init_2024-09-0311_04_42.748306/_2024-09-0311_10_18.429137.h5\n",
      "21/21 [==============================] - 195s 10s/step - loss: 0.0254 - categorical_accuracy: 1.0000 - auc_4: 1.0000 - val_loss: 2.5024 - val_categorical_accuracy: 0.4900 - val_auc_4: 0.7973 - lr: 0.0010\n",
      "Epoch 14/25\n",
      " 6/21 [=======>......................] - ETA: 2:02 - loss: 0.0213 - categorical_accuracy: 1.0000 - auc_4: 1.0000\n",
      "Epoch 00014: saving model to model_init_2024-09-0311_04_42.748306/_2024-09-0311_10_18.429137.h5\n",
      "16/21 [=====================>........] - ETA: 39s - loss: 0.0173 - categorical_accuracy: 1.0000 - auc_4: 1.0000\n",
      "Epoch 00014: saving model to model_init_2024-09-0311_04_42.748306/_2024-09-0311_10_18.429137.h5\n",
      "21/21 [==============================] - 197s 10s/step - loss: 0.0164 - categorical_accuracy: 1.0000 - auc_4: 1.0000 - val_loss: 2.6671 - val_categorical_accuracy: 0.5300 - val_auc_4: 0.7990 - lr: 0.0010\n",
      "Epoch 15/25\n",
      " 5/21 [======>.......................] - ETA: 2:15 - loss: 0.0151 - categorical_accuracy: 1.0000 - auc_4: 1.0000\n",
      "Epoch 00015: saving model to model_init_2024-09-0311_04_42.748306/_2024-09-0311_10_18.429137.h5\n",
      "15/21 [====================>.........] - ETA: 48s - loss: 0.0122 - categorical_accuracy: 1.0000 - auc_4: 1.0000\n",
      "Epoch 00015: saving model to model_init_2024-09-0311_04_42.748306/_2024-09-0311_10_18.429137.h5\n",
      "21/21 [==============================] - 203s 10s/step - loss: 0.0122 - categorical_accuracy: 1.0000 - auc_4: 1.0000 - val_loss: 2.9648 - val_categorical_accuracy: 0.4900 - val_auc_4: 0.7618 - lr: 0.0010\n",
      "Epoch 16/25\n",
      " 4/21 [====>.........................] - ETA: 2:31 - loss: 0.0100 - categorical_accuracy: 1.0000 - auc_4: 1.0000\n",
      "Epoch 00016: saving model to model_init_2024-09-0311_04_42.748306/_2024-09-0311_10_18.429137.h5\n",
      "14/21 [===================>..........] - ETA: 58s - loss: 0.0091 - categorical_accuracy: 1.0000 - auc_4: 1.0000 \n",
      "Epoch 00016: saving model to model_init_2024-09-0311_04_42.748306/_2024-09-0311_10_18.429137.h5\n",
      "21/21 [==============================] - 196s 10s/step - loss: 0.0098 - categorical_accuracy: 1.0000 - auc_4: 1.0000 - val_loss: 3.1233 - val_categorical_accuracy: 0.5000 - val_auc_4: 0.7642 - lr: 0.0010\n",
      "Epoch 17/25\n",
      " 3/21 [===>..........................] - ETA: 2:31 - loss: 0.0083 - categorical_accuracy: 1.0000 - auc_4: 1.0000\n",
      "Epoch 00017: saving model to model_init_2024-09-0311_04_42.748306/_2024-09-0311_10_18.429137.h5\n",
      "13/21 [=================>............] - ETA: 1:06 - loss: 0.0071 - categorical_accuracy: 1.0000 - auc_4: 1.0000\n",
      "Epoch 00017: saving model to model_init_2024-09-0311_04_42.748306/_2024-09-0311_10_18.429137.h5\n",
      "21/21 [==============================] - 198s 10s/step - loss: 0.0073 - categorical_accuracy: 1.0000 - auc_4: 1.0000 - val_loss: 2.7873 - val_categorical_accuracy: 0.5400 - val_auc_4: 0.7934 - lr: 0.0010\n",
      "Epoch 18/25\n",
      " 2/21 [=>............................] - ETA: 2:46 - loss: 0.0086 - categorical_accuracy: 1.0000 - auc_4: 1.0000\n",
      "Epoch 00018: saving model to model_init_2024-09-0311_04_42.748306/_2024-09-0311_10_18.429137.h5\n",
      "12/21 [================>.............] - ETA: 1:12 - loss: 0.0064 - categorical_accuracy: 1.0000 - auc_4: 1.0000\n",
      "Epoch 00018: saving model to model_init_2024-09-0311_04_42.748306/_2024-09-0311_10_18.429137.h5\n",
      "21/21 [==============================] - 196s 10s/step - loss: 0.0059 - categorical_accuracy: 1.0000 - auc_4: 1.0000 - val_loss: 2.8364 - val_categorical_accuracy: 0.5300 - val_auc_4: 0.7999 - lr: 0.0010\n",
      "Epoch 19/25\n",
      " 1/21 [>.............................] - ETA: 6s - loss: 0.0035 - categorical_accuracy: 1.0000 - auc_4: 1.0000\n",
      "Epoch 00019: saving model to model_init_2024-09-0311_04_42.748306/_2024-09-0311_10_18.429137.h5\n",
      "11/21 [==============>...............] - ETA: 1:20 - loss: 0.0045 - categorical_accuracy: 1.0000 - auc_4: 1.0000\n",
      "Epoch 00019: saving model to model_init_2024-09-0311_04_42.748306/_2024-09-0311_10_18.429137.h5\n",
      "21/21 [==============================] - 200s 10s/step - loss: 0.0047 - categorical_accuracy: 1.0000 - auc_4: 1.0000 - val_loss: 2.7988 - val_categorical_accuracy: 0.5500 - val_auc_4: 0.7874 - lr: 0.0010\n",
      "Epoch 20/25\n",
      "\n",
      "Epoch 00020: saving model to model_init_2024-09-0311_04_42.748306/_2024-09-0311_10_18.429137.h5\n",
      "10/21 [=============>................] - ETA: 1:23 - loss: 0.0047 - categorical_accuracy: 1.0000 - auc_4: 1.0000\n",
      "Epoch 00020: saving model to model_init_2024-09-0311_04_42.748306/_2024-09-0311_10_18.429137.h5\n",
      "20/21 [===========================>..] - ETA: 7s - loss: 0.0042 - categorical_accuracy: 1.0000 - auc_4: 1.0000 \n",
      "Epoch 00020: saving model to model_init_2024-09-0311_04_42.748306/_2024-09-0311_10_18.429137.h5\n",
      "21/21 [==============================] - 190s 9s/step - loss: 0.0042 - categorical_accuracy: 1.0000 - auc_4: 1.0000 - val_loss: 3.0617 - val_categorical_accuracy: 0.5400 - val_auc_4: 0.7875 - lr: 0.0010\n",
      "Epoch 21/25\n",
      " 9/21 [===========>..................] - ETA: 1:36 - loss: 0.0040 - categorical_accuracy: 1.0000 - auc_4: 1.0000\n",
      "Epoch 00021: saving model to model_init_2024-09-0311_04_42.748306/_2024-09-0311_10_18.429137.h5\n",
      "19/21 [==========================>...] - ETA: 15s - loss: 0.0036 - categorical_accuracy: 1.0000 - auc_4: 1.0000\n",
      "Epoch 00021: saving model to model_init_2024-09-0311_04_42.748306/_2024-09-0311_10_18.429137.h5\n",
      "21/21 [==============================] - 194s 10s/step - loss: 0.0036 - categorical_accuracy: 1.0000 - auc_4: 1.0000 - val_loss: 3.2847 - val_categorical_accuracy: 0.5200 - val_auc_4: 0.7707 - lr: 0.0010\n",
      "Epoch 22/25\n",
      " 8/21 [==========>...................] - ETA: 1:44 - loss: 0.0033 - categorical_accuracy: 1.0000 - auc_4: 1.0000\n",
      "Epoch 00022: saving model to model_init_2024-09-0311_04_42.748306/_2024-09-0311_10_18.429137.h5\n",
      "18/21 [========================>.....] - ETA: 23s - loss: 0.0030 - categorical_accuracy: 1.0000 - auc_4: 1.0000\n",
      "Epoch 00022: saving model to model_init_2024-09-0311_04_42.748306/_2024-09-0311_10_18.429137.h5\n",
      "21/21 [==============================] - 195s 10s/step - loss: 0.0030 - categorical_accuracy: 1.0000 - auc_4: 1.0000 - val_loss: 2.8774 - val_categorical_accuracy: 0.5300 - val_auc_4: 0.8019 - lr: 0.0010\n",
      "Epoch 23/25\n",
      " 7/21 [=========>....................] - ETA: 1:57 - loss: 0.0028 - categorical_accuracy: 1.0000 - auc_4: 1.0000\n",
      "Epoch 00023: saving model to model_init_2024-09-0311_04_42.748306/_2024-09-0311_10_18.429137.h5\n",
      "17/21 [=======================>......] - ETA: 32s - loss: 0.0028 - categorical_accuracy: 1.0000 - auc_4: 1.0000\n",
      "Epoch 00023: saving model to model_init_2024-09-0311_04_42.748306/_2024-09-0311_10_18.429137.h5\n",
      "21/21 [==============================] - 199s 10s/step - loss: 0.0027 - categorical_accuracy: 1.0000 - auc_4: 1.0000 - val_loss: 3.0724 - val_categorical_accuracy: 0.5400 - val_auc_4: 0.8024 - lr: 0.0010\n",
      "Epoch 24/25\n",
      " 6/21 [=======>......................] - ETA: 2:04 - loss: 0.0030 - categorical_accuracy: 1.0000 - auc_4: 1.0000\n",
      "Epoch 00024: saving model to model_init_2024-09-0311_04_42.748306/_2024-09-0311_10_18.429137.h5\n",
      "16/21 [=====================>........] - ETA: 39s - loss: 0.0025 - categorical_accuracy: 1.0000 - auc_4: 1.0000\n",
      "Epoch 00024: saving model to model_init_2024-09-0311_04_42.748306/_2024-09-0311_10_18.429137.h5\n",
      "21/21 [==============================] - 191s 10s/step - loss: 0.0023 - categorical_accuracy: 1.0000 - auc_4: 1.0000 - val_loss: 3.1692 - val_categorical_accuracy: 0.5400 - val_auc_4: 0.7938 - lr: 0.0010\n",
      "Epoch 25/25\n",
      " 5/21 [======>.......................] - ETA: 2:10 - loss: 0.0030 - categorical_accuracy: 1.0000 - auc_4: 1.0000\n",
      "Epoch 00025: saving model to model_init_2024-09-0311_04_42.748306/_2024-09-0311_10_18.429137.h5\n",
      "15/21 [====================>.........] - ETA: 48s - loss: 0.0022 - categorical_accuracy: 1.0000 - auc_4: 1.0000\n",
      "Epoch 00025: saving model to model_init_2024-09-0311_04_42.748306/_2024-09-0311_10_18.429137.h5\n",
      "21/21 [==============================] - 197s 10s/step - loss: 0.0021 - categorical_accuracy: 1.0000 - auc_4: 1.0000 - val_loss: 2.9623 - val_categorical_accuracy: 0.5300 - val_auc_4: 0.7972 - lr: 0.0010\n"
     ]
    },
    {
     "data": {
      "text/plain": [
       "<keras.callbacks.History at 0x7f9f9cd135e0>"
      ]
     },
     "execution_count": 19,
     "metadata": {},
     "output_type": "execute_result"
    }
   ],
   "source": [
    "model9.fit(train_generator9, steps_per_epoch=steps_per_epoch, epochs=25, verbose=1, \n",
    "                    callbacks=getCallbacksList(model_name), validation_data=val_generator9, \n",
    "                    validation_steps=validation_steps, class_weight=None, workers=1, initial_epoch=0)"
   ]
  },
  {
   "cell_type": "markdown",
   "metadata": {},
   "source": [
    "**Observations**: This model is same as Model #4 but with more Epochs. This was tried because Model #4 seemed the most promising with 5 Epochs. However, we can see that the validation categorical accuracy is stuck at 0.52-0.54 for more than 10 Epochs."
   ]
  },
  {
   "cell_type": "markdown",
   "metadata": {},
   "source": [
    "  "
   ]
  },
  {
   "cell_type": "markdown",
   "metadata": {},
   "source": [
    "#### Model 10: Model 8 + 25 Epochs"
   ]
  },
  {
   "cell_type": "code",
   "execution_count": 21,
   "metadata": {},
   "outputs": [
    {
     "name": "stdout",
     "output_type": "stream",
     "text": [
      "WARNING:tensorflow:Layer lstm_2 will not use cuDNN kernels since it doesn't meet the criteria. It will use a generic GPU kernel as fallback when running on GPU.\n",
      "Model: \"sequential_5\"\n",
      "_________________________________________________________________\n",
      " Layer (type)                Output Shape              Param #   \n",
      "=================================================================\n",
      " conv3d_10 (Conv3D)          (None, 28, 98, 98, 16)    1312      \n",
      "                                                                 \n",
      " time_distributed_4 (TimeDis  (None, 28, 98, 98, 16)   64        \n",
      " tributed)                                                       \n",
      "                                                                 \n",
      " max_pooling3d_10 (MaxPoolin  (None, 14, 49, 49, 16)   0         \n",
      " g3D)                                                            \n",
      "                                                                 \n",
      " conv3d_11 (Conv3D)          (None, 12, 47, 47, 32)    13856     \n",
      "                                                                 \n",
      " time_distributed_5 (TimeDis  (None, 12, 47, 47, 32)   128       \n",
      " tributed)                                                       \n",
      "                                                                 \n",
      " max_pooling3d_11 (MaxPoolin  (None, 6, 23, 23, 32)    0         \n",
      " g3D)                                                            \n",
      "                                                                 \n",
      " conv3d_12 (Conv3D)          (None, 4, 21, 21, 64)     55360     \n",
      "                                                                 \n",
      " time_distributed_6 (TimeDis  (None, 4, 21, 21, 64)    256       \n",
      " tributed)                                                       \n",
      "                                                                 \n",
      " max_pooling3d_12 (MaxPoolin  (None, 2, 11, 11, 64)    0         \n",
      " g3D)                                                            \n",
      "                                                                 \n",
      " conv3d_13 (Conv3D)          (None, 2, 11, 11, 128)    221312    \n",
      "                                                                 \n",
      " time_distributed_7 (TimeDis  (None, 2, 11, 11, 128)   512       \n",
      " tributed)                                                       \n",
      "                                                                 \n",
      " max_pooling3d_13 (MaxPoolin  (None, 1, 6, 6, 128)     0         \n",
      " g3D)                                                            \n",
      "                                                                 \n",
      " time_distributed_8 (TimeDis  (None, 1, 4608)          0         \n",
      " tributed)                                                       \n",
      "                                                                 \n",
      " lstm_2 (LSTM)               (None, 128)               2425344   \n",
      "                                                                 \n",
      " dropout (Dropout)           (None, 128)               0         \n",
      "                                                                 \n",
      " dense_10 (Dense)            (None, 64)                8256      \n",
      "                                                                 \n",
      " dropout_1 (Dropout)         (None, 64)                0         \n",
      "                                                                 \n",
      " dense_11 (Dense)            (None, 5)                 325       \n",
      "                                                                 \n",
      "=================================================================\n",
      "Total params: 2,726,725\n",
      "Trainable params: 2,726,245\n",
      "Non-trainable params: 480\n",
      "_________________________________________________________________\n"
     ]
    }
   ],
   "source": [
    "input_shape = (len(img_idx), img_size[0], img_size[1], 3)\n",
    "\n",
    "#write your model here\n",
    "model10 = Sequential()\n",
    "model10.add(Conv3D(16, kernel_size=(3,3,3), activation='relu', input_shape=input_shape))\n",
    "model10.add(TimeDistributed(BatchNormalization()))\n",
    "model10.add(MaxPooling3D(pool_size=(2, 2, 2)))\n",
    "\n",
    "model10.add(Conv3D(32, kernel_size=(3,3,3), activation='relu'))\n",
    "model10.add(TimeDistributed(BatchNormalization()))\n",
    "model10.add(MaxPooling3D(pool_size=(2, 2, 2)))\n",
    "\n",
    "model10.add(Conv3D(64, kernel_size=(3,3,3), activation='relu'))\n",
    "model10.add(TimeDistributed(BatchNormalization()))\n",
    "model10.add(MaxPooling3D(pool_size=(2, 2, 2), padding='same'))\n",
    "\n",
    "model10.add(Conv3D(128, kernel_size=(3,3,3), activation='relu', padding='same'))\n",
    "model10.add(TimeDistributed(BatchNormalization()))\n",
    "model10.add(MaxPooling3D(pool_size=(2, 2, 2), padding='same'))\n",
    "\n",
    "model10.add(TimeDistributed(Flatten()))\n",
    "\n",
    "model10.add(LSTM(128, activation='relu', return_sequences=False))\n",
    "model10.add(Dropout(0.25))\n",
    "\n",
    "model10.add(Dense(64, activation='relu'))\n",
    "model10.add(Dropout(0.25))\n",
    "\n",
    "model10.add(Dense(5, activation='softmax'))\n",
    "\n",
    "model10.compile(optimizer=optimizers.Adam(lr=0.001, decay=1e-6), loss='categorical_crossentropy', metrics=['categorical_accuracy', keras.metrics.AUC()])\n",
    "model10.summary()\n",
    "\n",
    "train_generator10 = generator(train_path, train_doc, batch_size)\n",
    "val_generator10 = generator(val_path, val_doc, batch_size)\n"
   ]
  },
  {
   "cell_type": "code",
   "execution_count": 22,
   "metadata": {},
   "outputs": [
    {
     "name": "stdout",
     "output_type": "stream",
     "text": [
      "Source path =  /home/datasets/Project_data/train ; batch size = 32\n",
      "Epoch 1/25\n",
      " 9/21 [===========>..................] - ETA: 1:36 - loss: 1.8699 - categorical_accuracy: 0.3472 - auc_5: 0.6428\n",
      "Epoch 00001: saving model to model_init_2024-09-0311_04_42.748306/_2024-09-0312_43_53.061035.h5\n",
      "19/21 [==========================>...] - ETA: 15s - loss: 1.7063 - categorical_accuracy: 0.3931 - auc_5: 0.6972\n",
      "Epoch 00001: saving model to model_init_2024-09-0311_04_42.748306/_2024-09-0312_43_53.061035.h5\n",
      "21/21 [==============================] - ETA: 0s - loss: 1.6901 - categorical_accuracy: 0.3937 - auc_5: 0.7004Source path =  /home/datasets/Project_data/val ; batch size = 32\n",
      "21/21 [==============================] - 192s 10s/step - loss: 1.6901 - categorical_accuracy: 0.3937 - auc_5: 0.7004 - val_loss: 27.7157 - val_categorical_accuracy: 0.2400 - val_auc_5: 0.5212 - lr: 0.0010\n",
      "Epoch 2/25\n",
      " 8/21 [==========>...................] - ETA: 1:38 - loss: 1.2957 - categorical_accuracy: 0.4844 - auc_5: 0.7895\n",
      "Epoch 00002: saving model to model_init_2024-09-0311_04_42.748306/_2024-09-0312_43_53.061035.h5\n",
      "18/21 [========================>.....] - ETA: 23s - loss: 1.3142 - categorical_accuracy: 0.4826 - auc_5: 0.7911\n",
      "Epoch 00002: saving model to model_init_2024-09-0311_04_42.748306/_2024-09-0312_43_53.061035.h5\n",
      "21/21 [==============================] - 191s 10s/step - loss: 1.3250 - categorical_accuracy: 0.4842 - auc_5: 0.7925 - val_loss: 17.1475 - val_categorical_accuracy: 0.1800 - val_auc_5: 0.4573 - lr: 0.0010\n",
      "Epoch 3/25\n",
      " 7/21 [=========>....................] - ETA: 1:46 - loss: 1.2280 - categorical_accuracy: 0.5402 - auc_5: 0.8221\n",
      "Epoch 00003: saving model to model_init_2024-09-0311_04_42.748306/_2024-09-0312_43_53.061035.h5\n",
      "17/21 [=======================>......] - ETA: 30s - loss: 1.2014 - categorical_accuracy: 0.5276 - auc_5: 0.8264\n",
      "Epoch 00003: saving model to model_init_2024-09-0311_04_42.748306/_2024-09-0312_43_53.061035.h5\n",
      "21/21 [==============================] - 190s 10s/step - loss: 1.2269 - categorical_accuracy: 0.5249 - auc_5: 0.8212 - val_loss: 11.3810 - val_categorical_accuracy: 0.2300 - val_auc_5: 0.5260 - lr: 0.0010\n",
      "Epoch 4/25\n",
      " 6/21 [=======>......................] - ETA: 2:00 - loss: 1.0495 - categorical_accuracy: 0.5833 - auc_5: 0.8604\n",
      "Epoch 00004: saving model to model_init_2024-09-0311_04_42.748306/_2024-09-0312_43_53.061035.h5\n",
      "16/21 [=====================>........] - ETA: 39s - loss: 1.1032 - categorical_accuracy: 0.5840 - auc_5: 0.8499\n",
      "Epoch 00004: saving model to model_init_2024-09-0311_04_42.748306/_2024-09-0312_43_53.061035.h5\n",
      "21/21 [==============================] - 182s 9s/step - loss: 1.1002 - categorical_accuracy: 0.5762 - auc_5: 0.8502 - val_loss: 3.3604 - val_categorical_accuracy: 0.2300 - val_auc_5: 0.5787 - lr: 0.0010\n",
      "Epoch 5/25\n",
      " 5/21 [======>.......................] - ETA: 2:05 - loss: 1.0369 - categorical_accuracy: 0.5437 - auc_5: 0.8670\n",
      "Epoch 00005: saving model to model_init_2024-09-0311_04_42.748306/_2024-09-0312_43_53.061035.h5\n",
      "15/21 [====================>.........] - ETA: 46s - loss: 0.9808 - categorical_accuracy: 0.5813 - auc_5: 0.8789\n",
      "Epoch 00005: saving model to model_init_2024-09-0311_04_42.748306/_2024-09-0312_43_53.061035.h5\n",
      "21/21 [==============================] - 189s 9s/step - loss: 0.9462 - categorical_accuracy: 0.6048 - auc_5: 0.8872 - val_loss: 0.9893 - val_categorical_accuracy: 0.6000 - val_auc_5: 0.8939 - lr: 0.0010\n",
      "Epoch 6/25\n",
      " 4/21 [====>.........................] - ETA: 2:02 - loss: 0.9259 - categorical_accuracy: 0.7266 - auc_5: 0.9127\n",
      "Epoch 00006: saving model to model_init_2024-09-0311_04_42.748306/_2024-09-0312_43_53.061035.h5\n",
      "14/21 [===================>..........] - ETA: 54s - loss: 0.9370 - categorical_accuracy: 0.6696 - auc_5: 0.9013 \n",
      "Epoch 00006: saving model to model_init_2024-09-0311_04_42.748306/_2024-09-0312_43_53.061035.h5\n",
      "21/21 [==============================] - 191s 10s/step - loss: 0.8824 - categorical_accuracy: 0.6848 - auc_5: 0.9093 - val_loss: 2.1037 - val_categorical_accuracy: 0.3300 - val_auc_5: 0.6560 - lr: 0.0010\n",
      "Epoch 7/25\n",
      " 3/21 [===>..........................] - ETA: 2:22 - loss: 0.8097 - categorical_accuracy: 0.6875 - auc_5: 0.9143\n",
      "Epoch 00007: saving model to model_init_2024-09-0311_04_42.748306/_2024-09-0312_43_53.061035.h5\n",
      "13/21 [=================>............] - ETA: 1:08 - loss: 0.8241 - categorical_accuracy: 0.6587 - auc_5: 0.9146\n",
      "Epoch 00007: saving model to model_init_2024-09-0311_04_42.748306/_2024-09-0312_43_53.061035.h5\n",
      "21/21 [==============================] - 200s 10s/step - loss: 0.8157 - categorical_accuracy: 0.6727 - auc_5: 0.9162 - val_loss: 1.2686 - val_categorical_accuracy: 0.4300 - val_auc_5: 0.7814 - lr: 0.0010\n",
      "Epoch 8/25\n",
      " 2/21 [=>............................] - ETA: 2:13 - loss: 0.5780 - categorical_accuracy: 0.7656 - auc_5: 0.9575\n",
      "Epoch 00008: saving model to model_init_2024-09-0311_04_42.748306/_2024-09-0312_43_53.061035.h5\n",
      "12/21 [================>.............] - ETA: 1:11 - loss: 0.7101 - categorical_accuracy: 0.7396 - auc_5: 0.9367\n",
      "Epoch 00008: saving model to model_init_2024-09-0311_04_42.748306/_2024-09-0312_43_53.061035.h5\n",
      "21/21 [==============================] - 192s 10s/step - loss: 0.7396 - categorical_accuracy: 0.7210 - auc_5: 0.9312 - val_loss: 1.7535 - val_categorical_accuracy: 0.3800 - val_auc_5: 0.6981 - lr: 0.0010\n",
      "Epoch 9/25\n",
      " 1/21 [>.............................] - ETA: 5s - loss: 0.6633 - categorical_accuracy: 0.7188 - auc_5: 0.9429\n",
      "Epoch 00009: saving model to model_init_2024-09-0311_04_42.748306/_2024-09-0312_43_53.061035.h5\n",
      "11/21 [==============>...............] - ETA: 1:15 - loss: 0.6866 - categorical_accuracy: 0.7386 - auc_5: 0.9400\n",
      "Epoch 00009: saving model to model_init_2024-09-0311_04_42.748306/_2024-09-0312_43_53.061035.h5\n",
      "21/21 [==============================] - 191s 10s/step - loss: 0.6628 - categorical_accuracy: 0.7481 - auc_5: 0.9447 - val_loss: 1.4310 - val_categorical_accuracy: 0.5200 - val_auc_5: 0.7982 - lr: 0.0010\n",
      "Epoch 10/25\n",
      "\n",
      "Epoch 00010: saving model to model_init_2024-09-0311_04_42.748306/_2024-09-0312_43_53.061035.h5\n",
      "10/21 [=============>................] - ETA: 1:24 - loss: 0.5540 - categorical_accuracy: 0.7781 - auc_5: 0.9599\n",
      "Epoch 00010: saving model to model_init_2024-09-0311_04_42.748306/_2024-09-0312_43_53.061035.h5\n",
      "20/21 [===========================>..] - ETA: 7s - loss: 0.6236 - categorical_accuracy: 0.7609 - auc_5: 0.9518 \n",
      "Epoch 00010: saving model to model_init_2024-09-0311_04_42.748306/_2024-09-0312_43_53.061035.h5\n",
      "21/21 [==============================] - 195s 10s/step - loss: 0.6127 - categorical_accuracy: 0.7647 - auc_5: 0.9532 - val_loss: 2.0434 - val_categorical_accuracy: 0.4700 - val_auc_5: 0.7533 - lr: 0.0010\n",
      "Epoch 11/25\n",
      " 9/21 [===========>..................] - ETA: 1:33 - loss: 0.4819 - categorical_accuracy: 0.8056 - auc_5: 0.9701\n",
      "Epoch 00011: saving model to model_init_2024-09-0311_04_42.748306/_2024-09-0312_43_53.061035.h5\n",
      "19/21 [==========================>...] - ETA: 15s - loss: 0.5632 - categorical_accuracy: 0.7862 - auc_5: 0.9591\n",
      "Epoch 00011: saving model to model_init_2024-09-0311_04_42.748306/_2024-09-0312_43_53.061035.h5\n",
      "21/21 [==============================] - 192s 10s/step - loss: 0.5580 - categorical_accuracy: 0.7919 - auc_5: 0.9599 - val_loss: 1.4051 - val_categorical_accuracy: 0.5900 - val_auc_5: 0.8365 - lr: 0.0010\n",
      "Epoch 12/25\n",
      " 8/21 [==========>...................] - ETA: 1:48 - loss: 0.5777 - categorical_accuracy: 0.7734 - auc_5: 0.9557\n",
      "Epoch 00012: saving model to model_init_2024-09-0311_04_42.748306/_2024-09-0312_43_53.061035.h5\n",
      "18/21 [========================>.....] - ETA: 23s - loss: 0.5903 - categorical_accuracy: 0.7830 - auc_5: 0.9551\n",
      "Epoch 00012: saving model to model_init_2024-09-0311_04_42.748306/_2024-09-0312_43_53.061035.h5\n",
      "21/21 [==============================] - 184s 9s/step - loss: 0.5652 - categorical_accuracy: 0.7934 - auc_5: 0.9586 - val_loss: 2.3651 - val_categorical_accuracy: 0.3700 - val_auc_5: 0.7101 - lr: 0.0010\n",
      "Epoch 13/25\n",
      " 7/21 [=========>....................] - ETA: 1:45 - loss: 0.5682 - categorical_accuracy: 0.7857 - auc_5: 0.9590\n",
      "Epoch 00013: saving model to model_init_2024-09-0311_04_42.748306/_2024-09-0312_43_53.061035.h5\n",
      "17/21 [=======================>......] - ETA: 30s - loss: 0.5759 - categorical_accuracy: 0.7978 - auc_5: 0.9596\n",
      "Epoch 00013: saving model to model_init_2024-09-0311_04_42.748306/_2024-09-0312_43_53.061035.h5\n",
      "21/21 [==============================] - 187s 9s/step - loss: 0.5453 - categorical_accuracy: 0.8039 - auc_5: 0.9630 - val_loss: 0.6792 - val_categorical_accuracy: 0.7200 - val_auc_5: 0.9394 - lr: 0.0010\n",
      "Epoch 14/25\n",
      " 6/21 [=======>......................] - ETA: 1:56 - loss: 0.3753 - categorical_accuracy: 0.8438 - auc_5: 0.9827\n",
      "Epoch 00014: saving model to model_init_2024-09-0311_04_42.748306/_2024-09-0312_43_53.061035.h5\n",
      "16/21 [=====================>........] - ETA: 37s - loss: 0.5095 - categorical_accuracy: 0.8320 - auc_5: 0.9677\n",
      "Epoch 00014: saving model to model_init_2024-09-0311_04_42.748306/_2024-09-0312_43_53.061035.h5\n",
      "21/21 [==============================] - 188s 9s/step - loss: 0.4863 - categorical_accuracy: 0.8386 - auc_5: 0.9701 - val_loss: 1.3649 - val_categorical_accuracy: 0.5800 - val_auc_5: 0.8405 - lr: 0.0010\n",
      "Epoch 15/25\n",
      " 5/21 [======>.......................] - ETA: 2:04 - loss: 0.3221 - categorical_accuracy: 0.8875 - auc_5: 0.9861\n",
      "Epoch 00015: saving model to model_init_2024-09-0311_04_42.748306/_2024-09-0312_43_53.061035.h5\n",
      "15/21 [====================>.........] - ETA: 46s - loss: 0.3200 - categorical_accuracy: 0.8938 - auc_5: 0.9857\n",
      "Epoch 00015: saving model to model_init_2024-09-0311_04_42.748306/_2024-09-0312_43_53.061035.h5\n",
      "21/21 [==============================] - 195s 10s/step - loss: 0.3350 - categorical_accuracy: 0.8854 - auc_5: 0.9846 - val_loss: 0.6734 - val_categorical_accuracy: 0.7400 - val_auc_5: 0.9520 - lr: 0.0010\n",
      "Epoch 16/25\n",
      " 4/21 [====>.........................] - ETA: 2:10 - loss: 0.3427 - categorical_accuracy: 0.8438 - auc_5: 0.9844\n",
      "Epoch 00016: saving model to model_init_2024-09-0311_04_42.748306/_2024-09-0312_43_53.061035.h5\n",
      "14/21 [===================>..........] - ETA: 53s - loss: 0.3178 - categorical_accuracy: 0.8705 - auc_5: 0.9853 \n",
      "Epoch 00016: saving model to model_init_2024-09-0311_04_42.748306/_2024-09-0312_43_53.061035.h5\n",
      "21/21 [==============================] - 185s 9s/step - loss: 0.3109 - categorical_accuracy: 0.8763 - auc_5: 0.9864 - val_loss: 0.8405 - val_categorical_accuracy: 0.7100 - val_auc_5: 0.9306 - lr: 0.0010\n",
      "Epoch 17/25\n",
      " 3/21 [===>..........................] - ETA: 2:13 - loss: 0.5042 - categorical_accuracy: 0.7917 - auc_5: 0.9695\n",
      "Epoch 00017: saving model to model_init_2024-09-0311_04_42.748306/_2024-09-0312_43_53.061035.h5\n",
      "13/21 [=================>............] - ETA: 1:03 - loss: 0.4098 - categorical_accuracy: 0.8726 - auc_5: 0.9779\n",
      "Epoch 00017: saving model to model_init_2024-09-0311_04_42.748306/_2024-09-0312_43_53.061035.h5\n",
      "21/21 [==============================] - 195s 10s/step - loss: 0.3573 - categorical_accuracy: 0.8884 - auc_5: 0.9820 - val_loss: 1.3678 - val_categorical_accuracy: 0.6200 - val_auc_5: 0.8691 - lr: 0.0010\n",
      "Epoch 18/25\n",
      " 2/21 [=>............................] - ETA: 2:18 - loss: 0.3983 - categorical_accuracy: 0.8125 - auc_5: 0.9742\n",
      "Epoch 00018: saving model to model_init_2024-09-0311_04_42.748306/_2024-09-0312_43_53.061035.h5\n",
      "12/21 [================>.............] - ETA: 1:08 - loss: 0.3993 - categorical_accuracy: 0.8568 - auc_5: 0.9775\n",
      "Epoch 00018: saving model to model_init_2024-09-0311_04_42.748306/_2024-09-0312_43_53.061035.h5\n",
      "21/21 [==============================] - 187s 9s/step - loss: 0.3584 - categorical_accuracy: 0.8718 - auc_5: 0.9814 - val_loss: 1.6984 - val_categorical_accuracy: 0.6000 - val_auc_5: 0.8299 - lr: 0.0010\n",
      "Epoch 19/25\n",
      " 1/21 [>.............................] - ETA: 5s - loss: 0.4774 - categorical_accuracy: 0.8438 - auc_5: 0.9642\n",
      "Epoch 00019: saving model to model_init_2024-09-0311_04_42.748306/_2024-09-0312_43_53.061035.h5\n",
      "11/21 [==============>...............] - ETA: 1:15 - loss: 0.3741 - categorical_accuracy: 0.8608 - auc_5: 0.9809\n",
      "Epoch 00019: saving model to model_init_2024-09-0311_04_42.748306/_2024-09-0312_43_53.061035.h5\n",
      "21/21 [==============================] - 190s 10s/step - loss: 0.3260 - categorical_accuracy: 0.8824 - auc_5: 0.9853 - val_loss: 0.8269 - val_categorical_accuracy: 0.7400 - val_auc_5: 0.9296 - lr: 0.0010\n",
      "Epoch 20/25\n",
      "\n",
      "Epoch 00020: saving model to model_init_2024-09-0311_04_42.748306/_2024-09-0312_43_53.061035.h5\n",
      "10/21 [=============>................] - ETA: 1:22 - loss: 0.2089 - categorical_accuracy: 0.9094 - auc_5: 0.9942\n",
      "Epoch 00020: saving model to model_init_2024-09-0311_04_42.748306/_2024-09-0312_43_53.061035.h5\n",
      "20/21 [===========================>..] - ETA: 7s - loss: 0.2426 - categorical_accuracy: 0.9109 - auc_5: 0.9913 \n",
      "Epoch 00020: saving model to model_init_2024-09-0311_04_42.748306/_2024-09-0312_43_53.061035.h5\n",
      "21/21 [==============================] - 182s 9s/step - loss: 0.2383 - categorical_accuracy: 0.9125 - auc_5: 0.9915 - val_loss: 0.7318 - val_categorical_accuracy: 0.7600 - val_auc_5: 0.9426 - lr: 0.0010\n",
      "Epoch 21/25\n",
      " 9/21 [===========>..................] - ETA: 1:34 - loss: 0.3223 - categorical_accuracy: 0.8924 - auc_5: 0.9847\n",
      "Epoch 00021: saving model to model_init_2024-09-0311_04_42.748306/_2024-09-0312_43_53.061035.h5\n",
      "19/21 [==========================>...] - ETA: 15s - loss: 0.3027 - categorical_accuracy: 0.8931 - auc_5: 0.9870\n",
      "Epoch 00021: saving model to model_init_2024-09-0311_04_42.748306/_2024-09-0312_43_53.061035.h5\n",
      "21/21 [==============================] - 192s 10s/step - loss: 0.3052 - categorical_accuracy: 0.8899 - auc_5: 0.9869 - val_loss: 0.7615 - val_categorical_accuracy: 0.6900 - val_auc_5: 0.9326 - lr: 0.0010\n",
      "Epoch 22/25\n",
      " 8/21 [==========>...................] - ETA: 1:42 - loss: 0.2819 - categorical_accuracy: 0.9141 - auc_5: 0.9865\n",
      "Epoch 00022: saving model to model_init_2024-09-0311_04_42.748306/_2024-09-0312_43_53.061035.h5\n",
      "18/21 [========================>.....] - ETA: 23s - loss: 0.2824 - categorical_accuracy: 0.9080 - auc_5: 0.9874\n",
      "Epoch 00022: saving model to model_init_2024-09-0311_04_42.748306/_2024-09-0312_43_53.061035.h5\n",
      "21/21 [==============================] - 192s 10s/step - loss: 0.2799 - categorical_accuracy: 0.9095 - auc_5: 0.9878 - val_loss: 0.6585 - val_categorical_accuracy: 0.8200 - val_auc_5: 0.9538 - lr: 0.0010\n",
      "Epoch 23/25\n",
      " 7/21 [=========>....................] - ETA: 1:44 - loss: 0.2114 - categorical_accuracy: 0.9241 - auc_5: 0.9943\n",
      "Epoch 00023: saving model to model_init_2024-09-0311_04_42.748306/_2024-09-0312_43_53.061035.h5\n",
      "17/21 [=======================>......] - ETA: 31s - loss: 0.1697 - categorical_accuracy: 0.9412 - auc_5: 0.9962\n",
      "Epoch 00023: saving model to model_init_2024-09-0311_04_42.748306/_2024-09-0312_43_53.061035.h5\n",
      "21/21 [==============================] - 194s 10s/step - loss: 0.1678 - categorical_accuracy: 0.9382 - auc_5: 0.9963 - val_loss: 0.7686 - val_categorical_accuracy: 0.7400 - val_auc_5: 0.9548 - lr: 0.0010\n",
      "Epoch 24/25\n",
      " 6/21 [=======>......................] - ETA: 1:58 - loss: 0.1441 - categorical_accuracy: 0.9531 - auc_5: 0.9947\n",
      "Epoch 00024: saving model to model_init_2024-09-0311_04_42.748306/_2024-09-0312_43_53.061035.h5\n",
      "16/21 [=====================>........] - ETA: 39s - loss: 0.1984 - categorical_accuracy: 0.9336 - auc_5: 0.9920\n",
      "Epoch 00024: saving model to model_init_2024-09-0311_04_42.748306/_2024-09-0312_43_53.061035.h5\n",
      "21/21 [==============================] - 189s 9s/step - loss: 0.1927 - categorical_accuracy: 0.9336 - auc_5: 0.9929 - val_loss: 0.8674 - val_categorical_accuracy: 0.7200 - val_auc_5: 0.9290 - lr: 0.0010\n",
      "Epoch 25/25\n",
      " 5/21 [======>.......................] - ETA: 2:06 - loss: 0.2669 - categorical_accuracy: 0.9250 - auc_5: 0.9907\n",
      "Epoch 00025: saving model to model_init_2024-09-0311_04_42.748306/_2024-09-0312_43_53.061035.h5\n",
      "15/21 [====================>.........] - ETA: 47s - loss: 0.2272 - categorical_accuracy: 0.9167 - auc_5: 0.9923\n",
      "Epoch 00025: saving model to model_init_2024-09-0311_04_42.748306/_2024-09-0312_43_53.061035.h5\n",
      "21/21 [==============================] - 196s 10s/step - loss: 0.2063 - categorical_accuracy: 0.9246 - auc_5: 0.9938 - val_loss: 0.8746 - val_categorical_accuracy: 0.7800 - val_auc_5: 0.9341 - lr: 0.0010\n"
     ]
    },
    {
     "data": {
      "text/plain": [
       "<keras.callbacks.History at 0x7f9f9cd36f40>"
      ]
     },
     "execution_count": 22,
     "metadata": {},
     "output_type": "execute_result"
    }
   ],
   "source": [
    "model10.fit(train_generator10, steps_per_epoch=steps_per_epoch, epochs=25, verbose=1, \n",
    "                    callbacks=getCallbacksList(model_name), validation_data=val_generator10,\n",
    "                    validation_steps=validation_steps, class_weight=None, workers=1, initial_epoch=0)"
   ]
  },
  {
   "cell_type": "markdown",
   "metadata": {},
   "source": [
    "**Observations**: This model is same as Model #8 but with 25 Epochs. Even now the model is overfitting but not by a very big margin. \n",
    "**This is the final model.**"
   ]
  },
  {
   "cell_type": "code",
   "execution_count": null,
   "metadata": {},
   "outputs": [],
   "source": []
  }
 ],
 "metadata": {
  "kernelspec": {
   "display_name": "Python 3 (ipykernel)",
   "language": "python",
   "name": "python3"
  },
  "language_info": {
   "codemirror_mode": {
    "name": "ipython",
    "version": 3
   },
   "file_extension": ".py",
   "mimetype": "text/x-python",
   "name": "python",
   "nbconvert_exporter": "python",
   "pygments_lexer": "ipython3",
   "version": "3.11.5"
  }
 },
 "nbformat": 4,
 "nbformat_minor": 4
}
